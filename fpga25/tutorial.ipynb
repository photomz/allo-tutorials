{
 "cells": [
  {
   "cell_type": "markdown",
   "metadata": {},
   "source": [
    "## Getting Started"
   ]
  },
  {
   "cell_type": "markdown",
   "metadata": {},
   "source": [
    "Welcome to Allo tutorial! We will walk through the basic usage of Allo and some advanced features. We will start with a simple example of matrix multiplication and then gradually optimize it to achieve high performance.\n",
    "\n",
    "Feel free to ask questions during the live demo!\n",
    "\n",
    "Allo is a Python-based Accelerator Design Language (ADL). It is designed to be simple and easy to use, while also providing a powerful set of primitives for hardware customizations.\n",
    "\n",
    "Allo documentation: https://cornell-zhang.github.io/allo/\n",
    "\n",
    "First, we import the necessary packages."
   ]
  },
  {
   "cell_type": "code",
   "execution_count": 1,
   "metadata": {},
   "outputs": [],
   "source": [
    "import allo\n",
    "import os\n",
    " \n",
    "os.environ[\"LLVM_BUILD_DIR\"] = \"/home/ubuntu/aloe/allo/externals/llvm-project/build\""
   ]
  },
  {
   "cell_type": "markdown",
   "metadata": {},
   "source": [
    "### Algorithm Definition\n",
    "Allo leverages an algorithm-customization decoupled paradigm, which means\n",
    "users can first define the algorithm in a high-level language and then\n",
    "optimize the program with various hardware customization techniques (i.e.,\n",
    "schedule primitives). Here we show how to define a general matrix multiplication\n",
    "(GEMM) in the Allo DSL.\n",
    "\n",
    "We first import the necessary data types from Allo. In this example, we\n",
    "use ``float32`` as the data type for all the variables."
   ]
  },
  {
   "cell_type": "code",
   "execution_count": 2,
   "metadata": {},
   "outputs": [],
   "source": [
    "from allo.ir.types import float32"
   ]
  },
  {
   "cell_type": "markdown",
   "metadata": {},
   "source": [
    "We then define a function that takes two 128x128 matrices as inputs and\n",
    "returns a 128x128 matrix as output. The variable declaration is defined\n",
    "as ``<name>: <type>[<shape>]``, and the function type is defined as\n",
    "``(<in_type0>, <in_type1>, ...) -> <out_type>``.\n",
    "We require **strict type annotation** in Allo's kernels, which is different\n",
    "from directly programming in Python.\n",
    "\n",
    "Inside the kernel, we provide a shorthand for the loop iterator. For example,\n",
    "``for i, j in allo.grid(128, 128)`` is equivalent to the following\n",
    "nested for-loop:\n",
    "\n",
    "```python\n",
    "    for i in range(128):\n",
    "        for j in range(128):\n",
    "            # body\n",
    "```\n",
    "The ``allo.grid`` API is used to define the iteration space of the loop.\n",
    "The arguments denote the upper bounds of the loop iterators.\n",
    "Notice the above range-loop is also supported in the new Allo, so\n",
    "users have more flexibility to define the loop structure.\n",
    "\n",
    "We also provide ``allo.reduction`` to define the reduction loop."
   ]
  },
  {
   "cell_type": "code",
   "execution_count": 3,
   "metadata": {},
   "outputs": [],
   "source": [
    "M, N, K = 128, 128, 128\n",
    "\n",
    "def gemm(A: float32[M, K], B: float32[K, N]) -> float32[M, N]:\n",
    "    C: float32[M, N] = 0.0\n",
    "    for i, j in allo.grid(M, N):\n",
    "        for k in allo.reduction(K):\n",
    "            C[i, j] += A[i, k] * B[k, j]\n",
    "    return C"
   ]
  },
  {
   "cell_type": "markdown",
   "metadata": {},
   "source": [
    "### Create a Schedule\n",
    "\n",
    "Hardware customizations in Allo are applied on a **schedule**.  After defining the algorithm, we create a schedule with ``allo.customize``."
   ]
  },
  {
   "cell_type": "code",
   "execution_count": 4,
   "metadata": {},
   "outputs": [],
   "source": [
    "s = allo.customize(gemm)"
   ]
  },
  {
   "cell_type": "markdown",
   "metadata": {},
   "source": [
    "#### Inspect the Intermediate Representation (IR)\n",
    "Allo leverage the `MLIR <https://mlir.llvm.org/>`_ infrastructure to\n",
    "represent the program, and we can directly print out the IR by using\n",
    "``s.module``."
   ]
  },
  {
   "cell_type": "code",
   "execution_count": 5,
   "metadata": {},
   "outputs": [
    {
     "name": "stdout",
     "output_type": "stream",
     "text": [
      "module {\n",
      "  func.func @gemm(%arg0: memref<128x128xf32>, %arg1: memref<128x128xf32>) -> memref<128x128xf32> attributes {itypes = \"__\", otypes = \"_\"} {\n",
      "    %alloc = memref.alloc() {name = \"C\"} : memref<128x128xf32>\n",
      "    %cst = arith.constant 0.000000e+00 : f32\n",
      "    linalg.fill ins(%cst : f32) outs(%alloc : memref<128x128xf32>)\n",
      "    affine.for %arg2 = 0 to 128 {\n",
      "      affine.for %arg3 = 0 to 128 {\n",
      "        affine.for %arg4 = 0 to 128 {\n",
      "          %0 = affine.load %arg0[%arg2, %arg4] {from = \"A\"} : memref<128x128xf32>\n",
      "          %1 = affine.load %arg1[%arg4, %arg3] {from = \"B\"} : memref<128x128xf32>\n",
      "          %2 = arith.mulf %0, %1 : f32\n",
      "          %3 = affine.load %alloc[%arg2, %arg3] {from = \"C\"} : memref<128x128xf32>\n",
      "          %4 = arith.addf %3, %2 : f32\n",
      "          affine.store %4, %alloc[%arg2, %arg3] {to = \"C\"} : memref<128x128xf32>\n",
      "        } {loop_name = \"k\", op_name = \"S_k_0\", reduction}\n",
      "      } {loop_name = \"j\"}\n",
      "    } {loop_name = \"i\", op_name = \"S_i_j_0\"}\n",
      "    return %alloc : memref<128x128xf32>\n",
      "  }\n",
      "}\n",
      "\n"
     ]
    }
   ],
   "source": [
    "print(s.module)"
   ]
  },
  {
   "cell_type": "markdown",
   "metadata": {},
   "source": [
    "An MLIR program is\n",
    "a set of operations in different dialects, and the operations are referred\n",
    "to as ``<dialect>.<ops>``. In this example, we can see that the generated IR\n",
    "contains the following dialects:\n",
    "- ``func``: Used to define the function signature and the return of the function.\n",
    "- ``memref``: Used to define the shape and memory layout of the tensors.\n",
    "- ``affine``: Used to define the loop structure.\n",
    "- ``arith``: Used to conduct actual arithmetic operations.\n",
    "- ``linalg``: Currently only used to initialize the tensors.\n",
    "And the inner-most dot-product is explicitly represented by a sequence of load/store\n",
    "operations and some arithmetic operations.\n",
    "Allo also attaches some attributes to the operations, including the tensor\n",
    "names, loop names, and operation names, which are further used for optimization.\n",
    "\n",
    "📌 **Note**: Allo customizations are applied immediately on the IR. In the later exercises, you can print the IR after each customization to see the changes.\n",
    "\n",
    "\n",
    "### Validate the Functional Correctness on the CPU Backend\n",
    "\n",
    "Allo supports multiple backends, including CPU, FPGA, and AI Engine. We can target different backends by specifying the target hardware in the ``.build()`` function. We will start with the CPU backend.\n",
    "\n",
    "For functional validation on the CPU backend, we  call ``.build()`` function on the schedule and specify the target\n",
    "hardware as ``llvm``. By default, Allo will generate a LLVM program that\n",
    "can be executed on the CPU. "
   ]
  },
  {
   "cell_type": "code",
   "execution_count": 6,
   "metadata": {},
   "outputs": [],
   "source": [
    "executable = s.build(target=\"llvm\")"
   ]
  },
  {
   "cell_type": "markdown",
   "metadata": {},
   "source": [
    "📌 **Note**: ``s.build(target=\"llvm\")`` is equivalent to ``s.build()``.\n",
    "\n",
    "\n",
    "#### Prepare the Inputs/Outputs for the Executable\n",
    "\n",
    "To run the executable, we can generate random NumPy arrays as input data, and\n",
    "directly feed them into the executable. "
   ]
  },
  {
   "cell_type": "code",
   "execution_count": 7,
   "metadata": {},
   "outputs": [],
   "source": [
    "import numpy as np\n",
    "\n",
    "np_A = np.random.rand(M, K).astype(np.float32)\n",
    "np_B = np.random.rand(K, N).astype(np.float32)"
   ]
  },
  {
   "cell_type": "markdown",
   "metadata": {},
   "source": [
    "#### Run the Executable\n",
    "\n",
    "With the prepared inputs/outputs, we can feed them to our executable.\n",
    "Notice our module can return a new array as output, so we can directly\n",
    "assign the output to a new variable."
   ]
  },
  {
   "cell_type": "code",
   "execution_count": 8,
   "metadata": {},
   "outputs": [],
   "source": [
    "np_C = executable(np_A, np_B)"
   ]
  },
  {
   "cell_type": "markdown",
   "metadata": {},
   "source": [
    "Finally, we can compare the results with the NumPy to see if the results are correct."
   ]
  },
  {
   "cell_type": "code",
   "execution_count": 9,
   "metadata": {},
   "outputs": [
    {
     "name": "stdout",
     "output_type": "stream",
     "text": [
      "\u001b[92mResults are correct! ✅\u001b[0m\n"
     ]
    }
   ],
   "source": [
    "golden_C = np.matmul(np_A, np_B)\n",
    "np.testing.assert_allclose(np_C, golden_C, rtol=1e-3, atol=1e-3)\n",
    "print(\"\\033[92mResults are correct! ✅\\033[0m\")"
   ]
  },
  {
   "cell_type": "markdown",
   "metadata": {},
   "source": [
    "## Target the FPGA Backend\n",
    "\n",
    "To generate high-performance designs for FPGA, we apply hardware-specific customizations to transform algorithm specifications into efficient hardware implementations. "
   ]
  },
  {
   "cell_type": "markdown",
   "metadata": {},
   "source": [
    "### Setting up Vitis HLS\n",
    "Before delving into the details, let's set up the environment variables to use Vitis HLS in Jupyter notebook. This step is only required for Jupyter notebook."
   ]
  },
  {
   "cell_type": "code",
   "execution_count": 10,
   "metadata": {},
   "outputs": [
    {
     "name": "stdout",
     "output_type": "stream",
     "text": [
      "/home/ubuntu/Xilinx/Vitis_HLS/2023.1/bin/vitis_hls\n",
      "True\n"
     ]
    }
   ],
   "source": [
    "import subprocess\n",
    "import os\n",
    "\n",
    "import warnings\n",
    "warnings.filterwarnings(\"ignore\", category=DeprecationWarning)\n",
    "\n",
    "\n",
    "# Run Bash to source the script and print environment variables\n",
    "bash_command = \"bash -c 'source /home/ubuntu/Xilinx/Vitis/2023.1/settings64.sh && env'\"\n",
    "env_vars = subprocess.run(bash_command, shell=True, capture_output=True, text=True, check=True)\n",
    "\n",
    "# Parse and update Python's environment variables\n",
    "for line in env_vars.stdout.split(\"\\n\"):\n",
    "    if \"=\" in line:\n",
    "        key, value = line.split(\"=\", 1)\n",
    "        os.environ[key] = value\n",
    "\n",
    "# Verify\n",
    "!which vitis_hls\n",
    "\n",
    "import allo.backend.hls as hls\n",
    "print(hls.is_available(\"vitis_hls\"))"
   ]
  },
  {
   "cell_type": "markdown",
   "metadata": {},
   "source": [
    "### Test Baseline Implementation\n",
    "\n",
    "To target FPGA, we simply change the target to ``vitis_hls``. For example, we can specify the mode as ``csyn`` to synthesize the design."
   ]
  },
  {
   "cell_type": "code",
   "execution_count": 11,
   "metadata": {},
   "outputs": [],
   "source": [
    "mod = s.build(target=\"vitis_hls\", mode=\"csim\", project=\"baseline.prj\")"
   ]
  },
  {
   "cell_type": "markdown",
   "metadata": {},
   "source": [
    "This will generate a Vivado HLS project in the ``baseline.prj`` directory. You can navigate to the project folder to find the generated `kernel.cpp` file."
   ]
  },
  {
   "cell_type": "code",
   "execution_count": 12,
   "metadata": {},
   "outputs": [
    {
     "name": "stdout",
     "output_type": "stream",
     "text": [
      "g++ -shared -std=c++14 -fPIC `python3 -m pybind11 --includes` -I/home/ubuntu/aloe/allo/allo/backend -I/home/ubuntu/Xilinx/Vitis_HLS/2023.1/include /home/ubuntu/aloe/allo/allo/backend/_tmp/pygemm_1753936737460453375.cpp -o /home/ubuntu/aloe/allo/allo/backend/_tmp/pygemm_1753936737460453375`python3-config --extension-suffix`\n"
     ]
    }
   ],
   "source": [
    "mod(np_A, np_B, np_C)"
   ]
  },
  {
   "cell_type": "code",
   "execution_count": 20,
   "metadata": {},
   "outputs": [],
   "source": [
    "# # Set environment variables\n",
    "# export XILINX_VITIS=\"${HOME}/Xilinx/Vitis/2023.1\"\n",
    "# export XILINX_XRT=\"/opt/xilinx/xrt\"\n",
    "# export PATH=\"${XILINX_VITIS}/bin:${PATH}\"\n",
    "\n",
    "# export PLATFORM_REPO_PATHS=\"${XILINX_VITIS}/base_platforms:${XILINX_VITIS}/platforms\"\n",
    "# export PLATFORM=\"${U250}\"\n",
    "# export XDEVICE=\"${U250}\"\n",
    "# export HOST_ARCH=\"x86\"\n",
    "# export DEV_ARCH=\"us\"\n",
    "# export TARGET=\"hw_emu\"\n",
    "\n",
    "import os\n",
    "os.environ[\"XILINX_VITIS\"] = \"/home/ubuntu/Xilinx/Vitis/2023.1\"\n",
    "os.environ[\"XILINX_XRT\"] = \"/opt/xilinx/xrt\"\n",
    "os.environ[\"PATH\"] = f\"{os.environ['XILINX_VITIS']}/bin:{os.environ['PATH']}\"\n",
    "os.environ[\"PLATFORM_REPO_PATHS\"] = f\"{os.environ['XILINX_VITIS']}/base_platforms:{os.environ['XILINX_VITIS']}/platforms\"\n",
    "os.environ[\"PLATFORM\"] = \"xilinx_u280_gen3x16_xdma_1_202211_1\"\n",
    "os.environ[\"XDEVICE\"] = \"xilinx_u280_gen3x16_xdma_1_202211_1\"\n",
    "os.environ[\"HOST_ARCH\"] = \"x86\"\n",
    "os.environ[\"DEV_ARCH\"] = \"us\"\n",
    "os.environ[\"TARGET\"] = \"hw_emu\"\n",
    "os.environ[\"LD_LIBRARY_PATH\"] = f\"/home/ubuntu/xilinx_compat_libs/lib:{os.environ['LD_LIBRARY_PATH']}\""
   ]
  },
  {
   "cell_type": "code",
   "execution_count": 21,
   "metadata": {},
   "outputs": [
    {
     "name": "stdout",
     "output_type": "stream",
     "text": [
      "cd baseline.prj; make run TARGET=sw_emu PLATFORM=$XDEVICE\n"
     ]
    },
    {
     "name": "stderr",
     "output_type": "stream",
     "text": [
      "/bin/sh: 12: [[: not found\n",
      "/bin/sh: 12: [[: not found\n",
      "/bin/sh: 15: [[: not found\n",
      "/bin/sh: 18: [[: not found\n"
     ]
    },
    {
     "name": "stdout",
     "output_type": "stream",
     "text": [
      "g++ -o gemm xcl2.cpp host.cpp -I/opt/xilinx/xrt/include -I/home/ubuntu/Xilinx/Vivado/2023.1/include -Wall -O0 -g -std=c++1y -I. -fmessage-length=0 -L/opt/xilinx/xrt/lib -pthread -lOpenCL -lrt -lstdc++ \n"
     ]
    },
    {
     "name": "stderr",
     "output_type": "stream",
     "text": [
      "In file included from xcl2.hpp:33,\n",
      "                 from xcl2.cpp:17:\n",
      "/usr/include/CL/cl2.hpp:18:151: note: ‘#pragma message: cl2.hpp has been renamed to opencl.hpp to make it clear that it supports all versions of OpenCL. Please include opencl.hpp directly.’\n",
      "   18 | #pragma message(\"cl2.hpp has been renamed to opencl.hpp to make it clear that it supports all versions of OpenCL. Please include opencl.hpp directly.\")\n",
      "      |                                                                                                                                                       ^\n",
      "In file included from xcl2.hpp:33,\n",
      "                 from host.cpp:7:\n",
      "/usr/include/CL/cl2.hpp:18:151: note: ‘#pragma message: cl2.hpp has been renamed to opencl.hpp to make it clear that it supports all versions of OpenCL. Please include opencl.hpp directly.’\n",
      "   18 | #pragma message(\"cl2.hpp has been renamed to opencl.hpp to make it clear that it supports all versions of OpenCL. Please include opencl.hpp directly.\")\n",
      "      |                                                                                                                                                       ^\n"
     ]
    },
    {
     "name": "stdout",
     "output_type": "stream",
     "text": [
      "mkdir -p ./_x.sw_emu.xilinx_u280_gen3x16_xdma_1_202211_1\n",
      "v++ -c -g --save-temps  -t sw_emu --platform xilinx_u280_gen3x16_xdma_1_202211_1 -k gemm --temp_dir ./_x.sw_emu.xilinx_u280_gen3x16_xdma_1_202211_1  -I'.' -o'_x.sw_emu.xilinx_u280_gen3x16_xdma_1_202211_1/gemm.xo' kernel.cpp\n",
      "Option Map File Used: '/home/ubuntu/Xilinx/Vitis/2023.1/data/vitis/vpp/optMap.xml'\n",
      "\n",
      "****** v++ v2023.1 (64-bit)\n",
      "  **** SW Build 3860322 on 2023-05-04-06:32:48\n",
      "    ** Copyright 1986-2022 Xilinx, Inc. All Rights Reserved.\n",
      "    ** Copyright 2022-2023 Advanced Micro Devices, Inc. All Rights Reserved.\n",
      "\n",
      "INFO: [v++ 60-1306] Additional information associated with this v++ compile can be found at:\n",
      "\tReports: /home/ubuntu/aloe/allo-tutorials/fpga25/baseline.prj/_x.sw_emu.xilinx_u280_gen3x16_xdma_1_202211_1/reports/gemm\n",
      "\tLog files: /home/ubuntu/aloe/allo-tutorials/fpga25/baseline.prj/_x.sw_emu.xilinx_u280_gen3x16_xdma_1_202211_1/logs/gemm\n",
      "Running Dispatch Server on port: 44883\n",
      "INFO: [v++ 60-1548] Creating build summary session with primary output /home/ubuntu/aloe/allo-tutorials/fpga25/baseline.prj/_x.sw_emu.xilinx_u280_gen3x16_xdma_1_202211_1/gemm.xo.compile_summary, at Thu Jul 31 05:02:21 2025\n",
      "INFO: [v++ 60-1315] Creating rulecheck session with output '/home/ubuntu/aloe/allo-tutorials/fpga25/baseline.prj/_x.sw_emu.xilinx_u280_gen3x16_xdma_1_202211_1/reports/gemm/v++_compile_gemm_guidance.html', at Thu Jul 31 05:02:22 2025\n",
      "INFO: [v++ 60-895]   Target platform: /opt/xilinx/platforms/xilinx_u280_gen3x16_xdma_1_202211_1/xilinx_u280_gen3x16_xdma_1_202211_1.xpfm\n",
      "INFO: [v++ 60-1578]   This platform contains Xilinx Shell Archive '/opt/xilinx/platforms/xilinx_u280_gen3x16_xdma_1_202211_1/hw/hw.xsa'\n",
      "INFO: [v++ 74-78] Compiler Version string: 2023.1\n",
      "INFO: [v++ 60-585] Compiling for software emulation target\n",
      "INFO: [v++ 60-423]   Target device: xilinx_u280_gen3x16_xdma_1_202211_1\n",
      "INFO: [v++ 60-242] Creating kernel: 'gemm'\n",
      "INFO: [v++ 60-594] Finished kernel compilation\n",
      "INFO: [v++ 60-586] Created _x.sw_emu.xilinx_u280_gen3x16_xdma_1_202211_1/gemm.xo\n",
      "INFO: [v++ 60-2343] Use the vitis_analyzer tool to visualize and navigate the relevant reports. Run the following command. \n",
      "    vitis_analyzer /home/ubuntu/aloe/allo-tutorials/fpga25/baseline.prj/_x.sw_emu.xilinx_u280_gen3x16_xdma_1_202211_1/gemm.xo.compile_summary \n",
      "INFO: [v++ 60-791] Total elapsed time: 0h 0m 34s\n",
      "INFO: [v++ 60-1653] Closing dispatch client.\n",
      "mkdir -p ./build_dir.sw_emu.xilinx_u280_gen3x16_xdma_1_202211_1\n",
      "v++ -l -g --save-temps   -t sw_emu --platform xilinx_u280_gen3x16_xdma_1_202211_1 --temp_dir ./_x.sw_emu.xilinx_u280_gen3x16_xdma_1_202211_1 --optimize 3  --kernel_frequency 300 -o'./build_dir.sw_emu.xilinx_u280_gen3x16_xdma_1_202211_1/gemm.link.xclbin' _x.sw_emu.xilinx_u280_gen3x16_xdma_1_202211_1/gemm.xo\n",
      "Option Map File Used: '/home/ubuntu/Xilinx/Vitis/2023.1/data/vitis/vpp/optMap.xml'\n",
      "\n",
      "****** v++ v2023.1 (64-bit)\n",
      "  **** SW Build 3860322 on 2023-05-04-06:32:48\n",
      "    ** Copyright 1986-2022 Xilinx, Inc. All Rights Reserved.\n",
      "    ** Copyright 2022-2023 Advanced Micro Devices, Inc. All Rights Reserved.\n",
      "\n",
      "INFO: [v++ 60-1306] Additional information associated with this v++ link can be found at:\n",
      "\tReports: /home/ubuntu/aloe/allo-tutorials/fpga25/baseline.prj/_x.sw_emu.xilinx_u280_gen3x16_xdma_1_202211_1/reports/link\n",
      "\tLog files: /home/ubuntu/aloe/allo-tutorials/fpga25/baseline.prj/_x.sw_emu.xilinx_u280_gen3x16_xdma_1_202211_1/logs/link\n",
      "Running Dispatch Server on port: 36273\n",
      "INFO: [v++ 60-1548] Creating build summary session with primary output /home/ubuntu/aloe/allo-tutorials/fpga25/baseline.prj/build_dir.sw_emu.xilinx_u280_gen3x16_xdma_1_202211_1/gemm.link.xclbin.link_summary, at Thu Jul 31 05:02:57 2025\n",
      "INFO: [v++ 60-1315] Creating rulecheck session with output '/home/ubuntu/aloe/allo-tutorials/fpga25/baseline.prj/_x.sw_emu.xilinx_u280_gen3x16_xdma_1_202211_1/reports/link/v++_link_gemm.link_guidance.html', at Thu Jul 31 05:02:57 2025\n",
      "INFO: [v++ 60-895]   Target platform: /opt/xilinx/platforms/xilinx_u280_gen3x16_xdma_1_202211_1/xilinx_u280_gen3x16_xdma_1_202211_1.xpfm\n",
      "INFO: [v++ 60-1578]   This platform contains Xilinx Shell Archive '/opt/xilinx/platforms/xilinx_u280_gen3x16_xdma_1_202211_1/hw/hw.xsa'\n",
      "INFO: [v++ 74-78] Compiler Version string: 2023.1\n",
      "INFO: [v++ 60-629] Linking for software emulation target\n",
      "INFO: [v++ 60-423]   Target device: xilinx_u280_gen3x16_xdma_1_202211_1\n",
      "WARNING: [v++ 60-889] User-specified kernel frequency for ID 0 is the same as the default frequency 300 MHz, so it will be ignored\n",
      "INFO: [v++ 60-645] kernel flags are '-g -I /home/ubuntu/aloe/allo-tutorials/fpga25/baseline.prj -g'\n",
      "Check POST-VPL, containing 1 checks, has run: 0 errors\n",
      "INFO: [v++ 60-586] Created ./build_dir.sw_emu.xilinx_u280_gen3x16_xdma_1_202211_1/gemm.link.xclbin\n",
      "INFO: [v++ 60-1307] Run completed. Additional information can be found in:\n",
      "\tGuidance: /home/ubuntu/aloe/allo-tutorials/fpga25/baseline.prj/_x.sw_emu.xilinx_u280_gen3x16_xdma_1_202211_1/reports/link/v++_link_gemm.link_guidance.html\n",
      "\tSteps Log File: /home/ubuntu/aloe/allo-tutorials/fpga25/baseline.prj/_x.sw_emu.xilinx_u280_gen3x16_xdma_1_202211_1/logs/link/link.steps.log\n",
      "\n",
      "INFO: [v++ 60-2343] Use the vitis_analyzer tool to visualize and navigate the relevant reports. Run the following command. \n",
      "    vitis_analyzer /home/ubuntu/aloe/allo-tutorials/fpga25/baseline.prj/build_dir.sw_emu.xilinx_u280_gen3x16_xdma_1_202211_1/gemm.link.xclbin.link_summary \n",
      "INFO: [v++ 60-791] Total elapsed time: 0h 0m 21s\n",
      "INFO: [v++ 60-1653] Closing dispatch client.\n",
      "v++ -p ./build_dir.sw_emu.xilinx_u280_gen3x16_xdma_1_202211_1/gemm.link.xclbin -g --save-temps  -t sw_emu --platform xilinx_u280_gen3x16_xdma_1_202211_1 --package.out_dir ./package.sw_emu -o ./build_dir.sw_emu.xilinx_u280_gen3x16_xdma_1_202211_1/gemm.xclbin\n",
      "Option Map File Used: '/home/ubuntu/Xilinx/Vitis/2023.1/data/vitis/vpp/optMap.xml'\n",
      "\n",
      "****** v++ v2023.1 (64-bit)\n",
      "  **** SW Build 3860322 on 2023-05-04-06:32:48\n",
      "    ** Copyright 1986-2022 Xilinx, Inc. All Rights Reserved.\n",
      "    ** Copyright 2022-2023 Advanced Micro Devices, Inc. All Rights Reserved.\n",
      "\n",
      "INFO: [v++ 60-1306] Additional information associated with this v++ package can be found at:\n",
      "\tReports: /home/ubuntu/aloe/allo-tutorials/fpga25/baseline.prj/_x/reports/package\n",
      "\tLog files: /home/ubuntu/aloe/allo-tutorials/fpga25/baseline.prj/_x/logs/package\n",
      "Running Dispatch Server on port: 33191\n",
      "INFO: [v++ 60-1548] Creating build summary session with primary output /home/ubuntu/aloe/allo-tutorials/fpga25/baseline.prj/build_dir.sw_emu.xilinx_u280_gen3x16_xdma_1_202211_1/gemm.xclbin.package_summary, at Thu Jul 31 05:03:20 2025\n",
      "INFO: [v++ 60-1315] Creating rulecheck session with output '/home/ubuntu/aloe/allo-tutorials/fpga25/baseline.prj/_x/reports/package/v++_package_gemm_guidance.html', at Thu Jul 31 05:03:20 2025\n",
      "INFO: [v++ 60-895]   Target platform: /opt/xilinx/platforms/xilinx_u280_gen3x16_xdma_1_202211_1/xilinx_u280_gen3x16_xdma_1_202211_1.xpfm\n",
      "INFO: [v++ 60-1578]   This platform contains Xilinx Shell Archive '/opt/xilinx/platforms/xilinx_u280_gen3x16_xdma_1_202211_1/hw/hw.xsa'\n",
      "INFO: [v++ 74-78] Compiler Version string: 2023.1\n",
      "INFO: [v++ 60-2256] Packaging for software emulation\n",
      "awk: /home/ubuntu/xilinx_compat_libs/lib/libm.so.6: version `GLIBC_2.38' not found (required by awk)\n",
      "awk: /home/ubuntu/xilinx_compat_libs/lib/libm.so.6: version `GLIBC_2.38' not found (required by awk)\n",
      "awk: /home/ubuntu/xilinx_compat_libs/lib/libm.so.6: version `GLIBC_2.38' not found (required by awk)\n",
      "awk: /home/ubuntu/xilinx_compat_libs/lib/libm.so.6: version `GLIBC_2.38' not found (required by awk)\n",
      "awk: /home/ubuntu/xilinx_compat_libs/lib/libm.so.6: version `GLIBC_2.38' not found (required by awk)\n",
      "awk: /home/ubuntu/xilinx_compat_libs/lib/libm.so.6: version `GLIBC_2.38' not found (required by awk)\n",
      "INFO: [v++ 60-2460] Successfully copied a temporary xclbin to the output xclbin: /home/ubuntu/aloe/allo-tutorials/fpga25/baseline.prj/./build_dir.sw_emu.xilinx_u280_gen3x16_xdma_1_202211_1/gemm.xclbin\n",
      "INFO: [v++ 60-2343] Use the vitis_analyzer tool to visualize and navigate the relevant reports. Run the following command. \n",
      "    vitis_analyzer /home/ubuntu/aloe/allo-tutorials/fpga25/baseline.prj/build_dir.sw_emu.xilinx_u280_gen3x16_xdma_1_202211_1/gemm.xclbin.package_summary \n",
      "INFO: [v++ 60-791] Total elapsed time: 0h 0m 13s\n",
      "INFO: [v++ 60-1653] Closing dispatch client.\n",
      "cp -rf ./_x.sw_emu.xilinx_u280_gen3x16_xdma_1_202211_1/emconfig.json .\n",
      "XCL_EMULATION_MODE=sw_emu ./gemm ./build_dir.sw_emu.xilinx_u280_gen3x16_xdma_1_202211_1/gemm.xclbin\n",
      "Found Platform\n",
      "Platform Name: Xilinx\n",
      "INFO: Reading ./build_dir.sw_emu.xilinx_u280_gen3x16_xdma_1_202211_1/gemm.xclbin\n",
      "Loading: './build_dir.sw_emu.xilinx_u280_gen3x16_xdma_1_202211_1/gemm.xclbin'\n",
      "Trying to program device[0]: xilinx_u280_gen3x16_xdma_1_202211_1\n",
      "Device[0]: program successful!\n",
      "|-------------------------+-------------------------|\n",
      "| Kernel                  |    Wall-Clock Time (ns) |\n",
      "|-------------------------+-------------------------|\n",
      "Kernel Name: gemm_1, CU Number: 0, Thread creation status: success\n",
      "Kernel Name: gemm_1, CU Number: 0, State: Start\n",
      "Kernel Name: gemm_1, CU Number: 0, State: Running\n",
      "Kernel Name: gemm_1, CU Number: 0, State: Idle\n",
      "device process sw_emu_device done\n",
      "Kernel Name: gemm_1, CU Number: 0, Status: Shutdown\n",
      "| gemm                    |                13463698 |\n",
      "|-------------------------+-------------------------|\n",
      "Note: Wall Clock Time is meaningful for real hardware execution only, not for emulation.\n",
      "Please refer to profile summary for kernel execution time for hardware emulation.\n",
      "Finished execution!\n",
      "\n"
     ]
    }
   ],
   "source": [
    "mod = s.build(target=\"vitis_hls\", mode=\"sw_emu\", project=\"baseline.prj\")\n",
    "mod(np_A, np_B, np_C)"
   ]
  },
  {
   "cell_type": "code",
   "execution_count": 23,
   "metadata": {},
   "outputs": [
    {
     "name": "stdout",
     "output_type": "stream",
     "text": [
      "cd baseline.prj; make run TARGET=hw_emu PLATFORM=$XDEVICE\n"
     ]
    },
    {
     "name": "stderr",
     "output_type": "stream",
     "text": [
      "/bin/sh: 12: [[: not found\n",
      "/bin/sh: 12: [[: not found\n",
      "/bin/sh: 15: [[: not found\n",
      "/bin/sh: 18: [[: not found\n"
     ]
    },
    {
     "name": "stdout",
     "output_type": "stream",
     "text": [
      "g++ -o gemm xcl2.cpp host.cpp -I/opt/xilinx/xrt/include -I/home/ubuntu/Xilinx/Vivado/2023.1/include -Wall -O0 -g -std=c++1y -I. -fmessage-length=0 -L/opt/xilinx/xrt/lib -pthread -lOpenCL -lrt -lstdc++ \n"
     ]
    },
    {
     "name": "stderr",
     "output_type": "stream",
     "text": [
      "In file included from xcl2.hpp:33,\n",
      "                 from xcl2.cpp:17:\n",
      "/usr/include/CL/cl2.hpp:18:151: note: ‘#pragma message: cl2.hpp has been renamed to opencl.hpp to make it clear that it supports all versions of OpenCL. Please include opencl.hpp directly.’\n",
      "   18 | #pragma message(\"cl2.hpp has been renamed to opencl.hpp to make it clear that it supports all versions of OpenCL. Please include opencl.hpp directly.\")\n",
      "      |                                                                                                                                                       ^\n",
      "In file included from xcl2.hpp:33,\n",
      "                 from host.cpp:7:\n",
      "/usr/include/CL/cl2.hpp:18:151: note: ‘#pragma message: cl2.hpp has been renamed to opencl.hpp to make it clear that it supports all versions of OpenCL. Please include opencl.hpp directly.’\n",
      "   18 | #pragma message(\"cl2.hpp has been renamed to opencl.hpp to make it clear that it supports all versions of OpenCL. Please include opencl.hpp directly.\")\n",
      "      |                                                                                                                                                       ^\n"
     ]
    },
    {
     "name": "stdout",
     "output_type": "stream",
     "text": [
      "mkdir -p ./_x.hw_emu.xilinx_u280_gen3x16_xdma_1_202211_1\n",
      "v++ -c -g --save-temps  -t hw_emu --platform xilinx_u280_gen3x16_xdma_1_202211_1 -k gemm --temp_dir ./_x.hw_emu.xilinx_u280_gen3x16_xdma_1_202211_1  -I'.' -o'_x.hw_emu.xilinx_u280_gen3x16_xdma_1_202211_1/gemm.xo' kernel.cpp\n",
      "Option Map File Used: '/home/ubuntu/Xilinx/Vitis/2023.1/data/vitis/vpp/optMap.xml'\n",
      "\n",
      "****** v++ v2023.1 (64-bit)\n",
      "  **** SW Build 3860322 on 2023-05-04-06:32:48\n",
      "    ** Copyright 1986-2022 Xilinx, Inc. All Rights Reserved.\n",
      "    ** Copyright 2022-2023 Advanced Micro Devices, Inc. All Rights Reserved.\n",
      "\n",
      "INFO: [v++ 60-1306] Additional information associated with this v++ compile can be found at:\n",
      "\tReports: /home/ubuntu/aloe/allo-tutorials/fpga25/baseline.prj/_x.hw_emu.xilinx_u280_gen3x16_xdma_1_202211_1/reports/gemm\n",
      "\tLog files: /home/ubuntu/aloe/allo-tutorials/fpga25/baseline.prj/_x.hw_emu.xilinx_u280_gen3x16_xdma_1_202211_1/logs/gemm\n",
      "Running Dispatch Server on port: 37737\n",
      "INFO: [v++ 60-1548] Creating build summary session with primary output /home/ubuntu/aloe/allo-tutorials/fpga25/baseline.prj/_x.hw_emu.xilinx_u280_gen3x16_xdma_1_202211_1/gemm.xo.compile_summary, at Thu Jul 31 05:04:57 2025\n",
      "INFO: [v++ 60-1315] Creating rulecheck session with output '/home/ubuntu/aloe/allo-tutorials/fpga25/baseline.prj/_x.hw_emu.xilinx_u280_gen3x16_xdma_1_202211_1/reports/gemm/v++_compile_gemm_guidance.html', at Thu Jul 31 05:04:57 2025\n",
      "INFO: [v++ 60-895]   Target platform: /opt/xilinx/platforms/xilinx_u280_gen3x16_xdma_1_202211_1/xilinx_u280_gen3x16_xdma_1_202211_1.xpfm\n",
      "INFO: [v++ 60-1578]   This platform contains Xilinx Shell Archive '/opt/xilinx/platforms/xilinx_u280_gen3x16_xdma_1_202211_1/hw/hw.xsa'\n",
      "INFO: [v++ 74-78] Compiler Version string: 2023.1\n",
      "INFO: [v++ 60-585] Compiling for hardware emulation target\n",
      "INFO: [v++ 60-423]   Target device: xilinx_u280_gen3x16_xdma_1_202211_1\n",
      "INFO: [v++ 60-242] Creating kernel: 'gemm'\n",
      "\n",
      "===>The following messages were generated while  performing high-level synthesis for kernel: gemm Log file: /home/ubuntu/aloe/allo-tutorials/fpga25/baseline.prj/_x.hw_emu.xilinx_u280_gen3x16_xdma_1_202211_1/gemm/gemm/vitis_hls.log :\n",
      "INFO: [v++ 204-61] Pipelining loop 'VITIS_LOOP_71_1_VITIS_LOOP_72_2'.\n",
      "INFO: [v++ 200-1470] Pipelining result : Target II = NA, Final II = 1, Depth = 2, loop 'VITIS_LOOP_71_1_VITIS_LOOP_72_2'\n",
      "INFO: [v++ 204-61] Pipelining loop 'l_S_k_0_k'.\n",
      "INFO: [v++ 200-1470] Pipelining result : Target II = NA, Final II = 7, Depth = 14, loop 'l_S_k_0_k'\n",
      "INFO: [v++ 204-61] Pipelining loop 'l_S_load_buf0_load_buf0_l_0_l_load_buf0_l_1'.\n",
      "INFO: [v++ 204-61] Pipelining loop 'l_S_load_buf1_load_buf1_l_0_l_load_buf1_l_1'.\n",
      "INFO: [v++ 204-61] Pipelining loop 'l_S_store_res2_store_res2_l_0_l_store_res2_l_1'.\n",
      "INFO: [v++ 200-1470] Pipelining result : Target II = 1, Final II = 1, Depth = 3, loop 'l_S_load_buf0_load_buf0_l_0_l_load_buf0_l_1'\n",
      "INFO: [v++ 200-1470] Pipelining result : Target II = 1, Final II = 1, Depth = 3, loop 'l_S_load_buf1_load_buf1_l_0_l_load_buf1_l_1'\n",
      "INFO: [v++ 200-1470] Pipelining result : Target II = 1, Final II = 1, Depth = 4, loop 'l_S_store_res2_store_res2_l_0_l_store_res2_l_1'\n",
      "INFO: [v++ 200-790] **** Loop Constraint Status: All loop constraints were NOT satisfied.\n",
      "INFO: [v++ 200-789] **** Estimated Fmax: 411.00 MHz\n",
      "INFO: [v++ 60-594] Finished kernel compilation\n",
      "INFO: [v++ 60-244] Generating system estimate report...\n",
      "INFO: [v++ 60-1092] Generated system estimate report: /home/ubuntu/aloe/allo-tutorials/fpga25/baseline.prj/_x.hw_emu.xilinx_u280_gen3x16_xdma_1_202211_1/reports/gemm/system_estimate_gemm.xtxt\n",
      "INFO: [v++ 60-586] Created _x.hw_emu.xilinx_u280_gen3x16_xdma_1_202211_1/gemm.xo\n",
      "INFO: [v++ 60-2343] Use the vitis_analyzer tool to visualize and navigate the relevant reports. Run the following command. \n",
      "    vitis_analyzer /home/ubuntu/aloe/allo-tutorials/fpga25/baseline.prj/_x.hw_emu.xilinx_u280_gen3x16_xdma_1_202211_1/gemm.xo.compile_summary \n",
      "INFO: [v++ 60-791] Total elapsed time: 0h 1m 3s\n",
      "INFO: [v++ 60-1653] Closing dispatch client.\n",
      "mkdir -p ./build_dir.hw_emu.xilinx_u280_gen3x16_xdma_1_202211_1\n",
      "v++ -l -g --save-temps   -t hw_emu --platform xilinx_u280_gen3x16_xdma_1_202211_1 --temp_dir ./_x.hw_emu.xilinx_u280_gen3x16_xdma_1_202211_1 --optimize 3  --kernel_frequency 300 -o'./build_dir.hw_emu.xilinx_u280_gen3x16_xdma_1_202211_1/gemm.link.xclbin' _x.hw_emu.xilinx_u280_gen3x16_xdma_1_202211_1/gemm.xo\n",
      "Option Map File Used: '/home/ubuntu/Xilinx/Vitis/2023.1/data/vitis/vpp/optMap.xml'\n",
      "\n",
      "****** v++ v2023.1 (64-bit)\n",
      "  **** SW Build 3860322 on 2023-05-04-06:32:48\n",
      "    ** Copyright 1986-2022 Xilinx, Inc. All Rights Reserved.\n",
      "    ** Copyright 2022-2023 Advanced Micro Devices, Inc. All Rights Reserved.\n",
      "\n",
      "INFO: [v++ 60-1306] Additional information associated with this v++ link can be found at:\n",
      "\tReports: /home/ubuntu/aloe/allo-tutorials/fpga25/baseline.prj/_x.hw_emu.xilinx_u280_gen3x16_xdma_1_202211_1/reports/link\n",
      "\tLog files: /home/ubuntu/aloe/allo-tutorials/fpga25/baseline.prj/_x.hw_emu.xilinx_u280_gen3x16_xdma_1_202211_1/logs/link\n",
      "Running Dispatch Server on port: 36905\n",
      "INFO: [v++ 60-1548] Creating build summary session with primary output /home/ubuntu/aloe/allo-tutorials/fpga25/baseline.prj/build_dir.hw_emu.xilinx_u280_gen3x16_xdma_1_202211_1/gemm.link.xclbin.link_summary, at Thu Jul 31 05:06:02 2025\n",
      "INFO: [v++ 60-1315] Creating rulecheck session with output '/home/ubuntu/aloe/allo-tutorials/fpga25/baseline.prj/_x.hw_emu.xilinx_u280_gen3x16_xdma_1_202211_1/reports/link/v++_link_gemm.link_guidance.html', at Thu Jul 31 05:06:02 2025\n",
      "INFO: [v++ 60-895]   Target platform: /opt/xilinx/platforms/xilinx_u280_gen3x16_xdma_1_202211_1/xilinx_u280_gen3x16_xdma_1_202211_1.xpfm\n",
      "INFO: [v++ 60-1578]   This platform contains Xilinx Shell Archive '/opt/xilinx/platforms/xilinx_u280_gen3x16_xdma_1_202211_1/hw_emu/hw_emu.xsa'\n",
      "INFO: [v++ 74-78] Compiler Version string: 2023.1\n",
      "INFO: [v++ 60-629] Linking for hardware emulation target\n",
      "INFO: [v++ 60-423]   Target device: xilinx_u280_gen3x16_xdma_1_202211_1\n",
      "WARNING: [v++ 60-889] User-specified kernel frequency for ID 0 is the same as the default frequency 300 MHz, so it will be ignored\n",
      "INFO: [v++ 60-1332] Run 'run_link' status: Not started\n",
      "INFO: [v++ 60-1443] [05:06:07] Run run_link: Step system_link: Started\n",
      "INFO: [v++ 60-1453] Command Line: system_link --xo /home/ubuntu/aloe/allo-tutorials/fpga25/baseline.prj/_x.hw_emu.xilinx_u280_gen3x16_xdma_1_202211_1/gemm.xo -keep --xpfm /opt/xilinx/platforms/xilinx_u280_gen3x16_xdma_1_202211_1/xilinx_u280_gen3x16_xdma_1_202211_1.xpfm --target emu --output_dir /home/ubuntu/aloe/allo-tutorials/fpga25/baseline.prj/_x.hw_emu.xilinx_u280_gen3x16_xdma_1_202211_1/link/int --temp_dir /home/ubuntu/aloe/allo-tutorials/fpga25/baseline.prj/_x.hw_emu.xilinx_u280_gen3x16_xdma_1_202211_1/link/sys_link\n",
      "INFO: [v++ 60-1454] Run Directory: /home/ubuntu/aloe/allo-tutorials/fpga25/baseline.prj/_x.hw_emu.xilinx_u280_gen3x16_xdma_1_202211_1/link/run_link\n",
      "INFO: [SYSTEM_LINK 82-70] Extracting xo v3 file /home/ubuntu/aloe/allo-tutorials/fpga25/baseline.prj/_x.hw_emu.xilinx_u280_gen3x16_xdma_1_202211_1/gemm.xo\n",
      "INFO: [SYSTEM_LINK 82-53] Creating IP database /home/ubuntu/aloe/allo-tutorials/fpga25/baseline.prj/_x.hw_emu.xilinx_u280_gen3x16_xdma_1_202211_1/link/sys_link/_sysl/.cdb/xd_ip_db.xml\n",
      "INFO: [SYSTEM_LINK 82-38] [05:06:09] build_xd_ip_db started: /home/ubuntu/Xilinx/Vitis/2023.1/bin/build_xd_ip_db -ip_search 0  -sds-pf /home/ubuntu/aloe/allo-tutorials/fpga25/baseline.prj/_x.hw_emu.xilinx_u280_gen3x16_xdma_1_202211_1/link/sys_link/hw_emu.hpfm -clkid 0 -ip /home/ubuntu/aloe/allo-tutorials/fpga25/baseline.prj/_x.hw_emu.xilinx_u280_gen3x16_xdma_1_202211_1/link/sys_link/iprepo/xilinx_com_hls_gemm_1_0,gemm -o /home/ubuntu/aloe/allo-tutorials/fpga25/baseline.prj/_x.hw_emu.xilinx_u280_gen3x16_xdma_1_202211_1/link/sys_link/_sysl/.cdb/xd_ip_db.xml\n",
      "INFO: [SYSTEM_LINK 82-37] [05:06:16] build_xd_ip_db finished successfully\n",
      "Time (s): cpu = 00:00:07 ; elapsed = 00:00:07 . Memory (MB): peak = 441.531 ; gain = 0.000 ; free physical = 216354 ; free virtual = 223419\n",
      "INFO: [SYSTEM_LINK 82-51] Create system connectivity graph\n",
      "INFO: [SYSTEM_LINK 82-102] Applying explicit connections to the system connectivity graph: /home/ubuntu/aloe/allo-tutorials/fpga25/baseline.prj/_x.hw_emu.xilinx_u280_gen3x16_xdma_1_202211_1/link/sys_link/cfgraph/cfgen_cfgraph.xml\n",
      "INFO: [SYSTEM_LINK 82-38] [05:06:16] cfgen started: /home/ubuntu/Xilinx/Vitis/2023.1/bin/cfgen  -dpa_mem_offload false -dmclkid 0 -r /home/ubuntu/aloe/allo-tutorials/fpga25/baseline.prj/_x.hw_emu.xilinx_u280_gen3x16_xdma_1_202211_1/link/sys_link/_sysl/.cdb/xd_ip_db.xml -o /home/ubuntu/aloe/allo-tutorials/fpga25/baseline.prj/_x.hw_emu.xilinx_u280_gen3x16_xdma_1_202211_1/link/sys_link/cfgraph/cfgen_cfgraph.xml\n",
      "INFO: [CFGEN 83-0] Kernel Specs: \n",
      "INFO: [CFGEN 83-0]   kernel: gemm, num: 1  {gemm_1}\n",
      "INFO: [CFGEN 83-2226] Inferring mapping for argument gemm_1.v15 to HBM[0]\n",
      "INFO: [CFGEN 83-2226] Inferring mapping for argument gemm_1.v16 to HBM[0]\n",
      "INFO: [CFGEN 83-2226] Inferring mapping for argument gemm_1.v17 to HBM[0]\n",
      "INFO: [SYSTEM_LINK 82-37] [05:06:21] cfgen finished successfully\n",
      "Time (s): cpu = 00:00:05 ; elapsed = 00:00:05 . Memory (MB): peak = 441.531 ; gain = 0.000 ; free physical = 216389 ; free virtual = 223456\n",
      "INFO: [SYSTEM_LINK 82-52] Create top-level block diagram\n",
      "INFO: [SYSTEM_LINK 82-38] [05:06:21] cf2bd started: /home/ubuntu/Xilinx/Vitis/2023.1/bin/cf2bd  --linux --trace_buffer 1024 --input_file /home/ubuntu/aloe/allo-tutorials/fpga25/baseline.prj/_x.hw_emu.xilinx_u280_gen3x16_xdma_1_202211_1/link/sys_link/cfgraph/cfgen_cfgraph.xml --ip_db /home/ubuntu/aloe/allo-tutorials/fpga25/baseline.prj/_x.hw_emu.xilinx_u280_gen3x16_xdma_1_202211_1/link/sys_link/_sysl/.cdb/xd_ip_db.xml --cf_name dr --working_dir /home/ubuntu/aloe/allo-tutorials/fpga25/baseline.prj/_x.hw_emu.xilinx_u280_gen3x16_xdma_1_202211_1/link/sys_link/_sysl/.xsd --temp_dir /home/ubuntu/aloe/allo-tutorials/fpga25/baseline.prj/_x.hw_emu.xilinx_u280_gen3x16_xdma_1_202211_1/link/sys_link --output_dir /home/ubuntu/aloe/allo-tutorials/fpga25/baseline.prj/_x.hw_emu.xilinx_u280_gen3x16_xdma_1_202211_1/link/int\n",
      "INFO: [CF2BD 82-31] Launching cf2xd: cf2xd -linux -trace-buffer 1024 -i /home/ubuntu/aloe/allo-tutorials/fpga25/baseline.prj/_x.hw_emu.xilinx_u280_gen3x16_xdma_1_202211_1/link/sys_link/cfgraph/cfgen_cfgraph.xml -r /home/ubuntu/aloe/allo-tutorials/fpga25/baseline.prj/_x.hw_emu.xilinx_u280_gen3x16_xdma_1_202211_1/link/sys_link/_sysl/.cdb/xd_ip_db.xml -o dr.xml\n",
      "INFO: [CF2BD 82-28] cf2xd finished successfully\n",
      "INFO: [CF2BD 82-31] Launching cf_xsd: cf_xsd -disable-address-gen -dn dr -dp /home/ubuntu/aloe/allo-tutorials/fpga25/baseline.prj/_x.hw_emu.xilinx_u280_gen3x16_xdma_1_202211_1/link/sys_link/_sysl/.xsd\n",
      "INFO: [CF2BD 82-28] cf_xsd finished successfully\n",
      "INFO: [SYSTEM_LINK 82-37] [05:06:23] cf2bd finished successfully\n",
      "Time (s): cpu = 00:00:03 ; elapsed = 00:00:03 . Memory (MB): peak = 441.531 ; gain = 0.000 ; free physical = 216345 ; free virtual = 223418\n",
      "INFO: [v++ 60-1441] [05:06:23] Run run_link: Step system_link: Completed\n",
      "Time (s): cpu = 00:00:16 ; elapsed = 00:00:16 . Memory (MB): peak = 469.355 ; gain = 0.000 ; free physical = 216400 ; free virtual = 223473\n",
      "INFO: [v++ 60-1443] [05:06:23] Run run_link: Step cf2sw: Started\n",
      "INFO: [v++ 60-1453] Command Line: cf2sw -sdsl /home/ubuntu/aloe/allo-tutorials/fpga25/baseline.prj/_x.hw_emu.xilinx_u280_gen3x16_xdma_1_202211_1/link/int/sdsl.dat -rtd /home/ubuntu/aloe/allo-tutorials/fpga25/baseline.prj/_x.hw_emu.xilinx_u280_gen3x16_xdma_1_202211_1/link/int/cf2sw.rtd -nofilter /home/ubuntu/aloe/allo-tutorials/fpga25/baseline.prj/_x.hw_emu.xilinx_u280_gen3x16_xdma_1_202211_1/link/int/cf2sw_full.rtd -xclbin /home/ubuntu/aloe/allo-tutorials/fpga25/baseline.prj/_x.hw_emu.xilinx_u280_gen3x16_xdma_1_202211_1/link/int/xclbin_orig.xml -o /home/ubuntu/aloe/allo-tutorials/fpga25/baseline.prj/_x.hw_emu.xilinx_u280_gen3x16_xdma_1_202211_1/link/int/xclbin_orig.1.xml\n",
      "INFO: [v++ 60-1454] Run Directory: /home/ubuntu/aloe/allo-tutorials/fpga25/baseline.prj/_x.hw_emu.xilinx_u280_gen3x16_xdma_1_202211_1/link/run_link\n",
      "INFO: [v++ 60-1441] [05:06:27] Run run_link: Step cf2sw: Completed\n",
      "Time (s): cpu = 00:00:03 ; elapsed = 00:00:03 . Memory (MB): peak = 469.355 ; gain = 0.000 ; free physical = 216489 ; free virtual = 223564\n",
      "INFO: [v++ 60-1443] [05:06:27] Run run_link: Step rtd2_system_diagram: Started\n",
      "INFO: [v++ 60-1453] Command Line: rtd2SystemDiagram\n",
      "INFO: [v++ 60-1454] Run Directory: /home/ubuntu/aloe/allo-tutorials/fpga25/baseline.prj/_x.hw_emu.xilinx_u280_gen3x16_xdma_1_202211_1/link/run_link\n",
      "INFO: [v++ 60-1441] [05:06:27] Run run_link: Step rtd2_system_diagram: Completed\n",
      "Time (s): cpu = 00:00:00 ; elapsed = 00:00:00.22 . Memory (MB): peak = 469.355 ; gain = 0.000 ; free physical = 216475 ; free virtual = 223550\n",
      "INFO: [v++ 60-1443] [05:06:27] Run run_link: Step vpl: Started\n",
      "INFO: [v++ 60-1453] Command Line: vpl -t hw_emu -f xilinx_u280_gen3x16_xdma_1_202211_1 -s -g --kernel_frequency 300 --remote_ip_cache /home/ubuntu/aloe/allo-tutorials/fpga25/baseline.prj/.ipcache --output_dir /home/ubuntu/aloe/allo-tutorials/fpga25/baseline.prj/_x.hw_emu.xilinx_u280_gen3x16_xdma_1_202211_1/link/int --log_dir /home/ubuntu/aloe/allo-tutorials/fpga25/baseline.prj/_x.hw_emu.xilinx_u280_gen3x16_xdma_1_202211_1/logs/link --report_dir /home/ubuntu/aloe/allo-tutorials/fpga25/baseline.prj/_x.hw_emu.xilinx_u280_gen3x16_xdma_1_202211_1/reports/link --config /home/ubuntu/aloe/allo-tutorials/fpga25/baseline.prj/_x.hw_emu.xilinx_u280_gen3x16_xdma_1_202211_1/link/int/vplConfig.ini -k /home/ubuntu/aloe/allo-tutorials/fpga25/baseline.prj/_x.hw_emu.xilinx_u280_gen3x16_xdma_1_202211_1/link/int/kernel_info.dat --webtalk_flag Vitis --temp_dir /home/ubuntu/aloe/allo-tutorials/fpga25/baseline.prj/_x.hw_emu.xilinx_u280_gen3x16_xdma_1_202211_1/link --emulation_mode debug_waveform --no-info --iprepo /home/ubuntu/aloe/allo-tutorials/fpga25/baseline.prj/_x.hw_emu.xilinx_u280_gen3x16_xdma_1_202211_1/link/int/xo/ip_repo/xilinx_com_hls_gemm_1_0 --messageDb /home/ubuntu/aloe/allo-tutorials/fpga25/baseline.prj/_x.hw_emu.xilinx_u280_gen3x16_xdma_1_202211_1/link/run_link/vpl.pb /home/ubuntu/aloe/allo-tutorials/fpga25/baseline.prj/_x.hw_emu.xilinx_u280_gen3x16_xdma_1_202211_1/link/int/dr.bd.tcl\n",
      "INFO: [v++ 60-1454] Run Directory: /home/ubuntu/aloe/allo-tutorials/fpga25/baseline.prj/_x.hw_emu.xilinx_u280_gen3x16_xdma_1_202211_1/link/run_link\n",
      "\n",
      "****** vpl v2023.1 (64-bit)\n",
      "  **** SW Build 3860322 on 2023-05-04-06:32:48\n",
      "    ** Copyright 1986-2022 Xilinx, Inc. All Rights Reserved.\n",
      "    ** Copyright 2022-2023 Advanced Micro Devices, Inc. All Rights Reserved.\n",
      "\n",
      "INFO: [VPL 60-839] Read in kernel information from file '/home/ubuntu/aloe/allo-tutorials/fpga25/baseline.prj/_x.hw_emu.xilinx_u280_gen3x16_xdma_1_202211_1/link/int/kernel_info.dat'.\n",
      "INFO: [VPL 74-78] Compiler Version string: 2023.1\n",
      "INFO: [VPL 60-423]   Target device: xilinx_u280_gen3x16_xdma_1_202211_1\n",
      "WARNING: [VPL 60-889] User-specified kernel frequency for ID 0 is the same as the default frequency 300 MHz, so it will be ignored\n",
      "INFO: [VPL 60-1032] Extracting hardware platform to /home/ubuntu/aloe/allo-tutorials/fpga25/baseline.prj/_x.hw_emu.xilinx_u280_gen3x16_xdma_1_202211_1/link/vivado/vpl/.local/hw_platform\n",
      "[05:06:40] Run vpl: Step create_project: Started\n",
      "Creating Vivado project.\n",
      "[05:07:03] Run vpl: Step create_project: Completed\n",
      "[05:07:03] Run vpl: Step create_bd: Started\n",
      "[05:07:09] Run vpl: Step create_bd: Completed\n",
      "[05:07:09] Run vpl: Step update_bd: Started\n",
      "[05:07:12] Run vpl: Step update_bd: Completed\n",
      "[05:07:12] Run vpl: Step generate_target: Started\n",
      "[05:08:28] Run vpl: Step generate_target: RUNNING...\n",
      "[05:09:43] Run vpl: Step generate_target: RUNNING...\n",
      "[05:09:52] Run vpl: Step generate_target: Completed\n",
      "[05:09:52] Run vpl: Step config_hw_emu.gen_scripts: Started\n",
      "[05:10:24] Run vpl: Step config_hw_emu.gen_scripts: Completed\n",
      "[05:10:24] Run vpl: Step config_hw_emu.compile: Started\n",
      "[05:11:23] Run vpl: Step config_hw_emu.compile: Completed\n",
      "[05:11:23] Run vpl: Step config_hw_emu.elaborate: Started\n",
      "[05:11:26] Run vpl: Step config_hw_emu.elaborate: Failed\n",
      "[05:11:27] Run vpl: FINISHED. Run Status: config_hw_emu.elaborate ERROR\n",
      "\n",
      "===>The following messages were generated while processing /home/ubuntu/aloe/allo-tutorials/fpga25/baseline.prj/_x.hw_emu.xilinx_u280_gen3x16_xdma_1_202211_1/link/vivado/vpl/prj/prj.sim/sim_1/behav_waveform/xsim :\n",
      "ERROR: [VPL 43-4452] Linking failed for \"libdpi.so\". Please check the log files or run with \"-v\" option for more messages.\n",
      "ERROR: [VPL 60-773] In '/home/ubuntu/aloe/allo-tutorials/fpga25/baseline.prj/_x.hw_emu.xilinx_u280_gen3x16_xdma_1_202211_1/link/vivado/vpl/vivado.log', caught Tcl error:  \n",
      "WARNING: [VPL 60-732] Link warning: IP pfm_top_axi_vip_0_0 is locked. Locked reason: * IP definition 'AXI Verification IP (1.1)' for IP 'pfm_top_axi_vip_0_0' (customized with software release 2022.1.1) has a different revision in the IP Catalog.\n",
      "WARNING: [VPL 60-732] Link warning: .\n",
      "WARNING: [VPL 60-732] Link warning: IP pfm_top_connect_to_es_cu_0 is locked. Locked reason: * IP definition 'AXI Interconnect (2.1)' for IP 'pfm_top_connect_to_es_cu_0' (customized with software release 2022.1.1) has a different revision in the IP Catalog.\n",
      "WARNING: [VPL 60-732] Link warning: .\n",
      "WARNING: [VPL 60-732] Link warning: IP pfm_top_smartconnect_0_0 is locked. Locked reason: * IP definition 'AXI SmartConnect (1.0)' for IP 'pfm_top_smartconnect_0_0' (customized with software release 2022.1.1) has a different revision in the IP Catalog.\n",
      "WARNING: [VPL 60-732] Link warning: * IP 'pfm_top_smartconnect_0_0' contains one or more locked subcores.* Target IP definition 'AXI SmartConnect (1.0)' requires a revision change. Please review the change log before upgrading the IP.\n",
      "WARNING: [VPL 60-732] Link warning: .\n",
      "WARNING: [VPL 60-732] Link warning: IP pfm_top_xbar_0 is locked. Locked reason: * IP definition 'AXI Crossbar (2.1)' for IP 'pfm_top_xbar_0' (customized with software release 2022.1.1) has a different revision in the IP Catalog.\n",
      "WARNING: [VPL 60-732] Link warning: .\n",
      "WARNING: [VPL 60-732] Link warning: IP bd_387c_one_0 is locked. Locked reason: * The IP Data in the repository is incompatible with the current instance (despite having identical Version and Revision). You will need to upgrade the IP before viewing the customization and generating outputs.\n",
      "WARNING: [VPL 60-732] Link warning: .\n",
      "WARNING: [VPL 60-732] Link warning: IP bd_387c_s00mmu_0 is locked. Locked reason: * IP definition 'SC MMU (1.0)' for IP 'bd_387c_s00mmu_0' (customized with software release 2022.1.1) has a different revision in the IP Catalog.\n",
      "WARNING: [VPL 60-732] Link warning: .\n",
      "WARNING: [VPL 60-732] Link warning: IP bd_387c_s00sic_0 is locked. Locked reason: * IP definition 'SC SI_CONVERTER (1.0)' for IP 'bd_387c_s00sic_0' (customized with software release 2022.1.1) has a different revision in the IP Catalog.\n",
      "WARNING: [VPL 60-732] Link warning: .\n",
      "ERROR: [VPL 60-704] Integration error, Step failed: config_hw_emu.elaborate An error stack with function names and arguments may be available in the 'vivado.log'.\n",
      "ERROR: [VPL 60-1328] Vpl run 'vpl' failed\n",
      "ERROR: [VPL 60-806] Failed to finish platform linker\n",
      "INFO: [v++ 60-1442] [05:11:27] Run run_link: Step vpl: Failed\n",
      "Time (s): cpu = 00:10:38 ; elapsed = 00:05:00 . Memory (MB): peak = 469.355 ; gain = 0.000 ; free physical = 210052 ; free virtual = 218519\n",
      "ERROR: [v++ 60-661] v++ link run 'run_link' failed\n",
      "ERROR: [v++ 60-626] Kernel link failed to complete\n",
      "ERROR: [v++ 60-703] Failed to finish linking\n",
      "INFO: [v++ 60-1653] Closing dispatch client.\n"
     ]
    },
    {
     "name": "stderr",
     "output_type": "stream",
     "text": [
      "make: *** [makefile_us_alveo.mk:99: build_dir.hw_emu.xilinx_u280_gen3x16_xdma_1_202211_1/gemm.xclbin] Error 1\n"
     ]
    },
    {
     "ename": "RuntimeError",
     "evalue": "Failed to build the project",
     "output_type": "error",
     "traceback": [
      "\u001b[31m---------------------------------------------------------------------------\u001b[39m",
      "\u001b[31mRuntimeError\u001b[39m                              Traceback (most recent call last)",
      "\u001b[36mCell\u001b[39m\u001b[36m \u001b[39m\u001b[32mIn[23]\u001b[39m\u001b[32m, line 2\u001b[39m\n\u001b[32m      1\u001b[39m hw_mod = s.build(target=\u001b[33m\"\u001b[39m\u001b[33mvitis_hls\u001b[39m\u001b[33m\"\u001b[39m, mode=\u001b[33m\"\u001b[39m\u001b[33mhw_emu\u001b[39m\u001b[33m\"\u001b[39m, project=\u001b[33m\"\u001b[39m\u001b[33mbaseline.prj\u001b[39m\u001b[33m\"\u001b[39m)\n\u001b[32m----> \u001b[39m\u001b[32m2\u001b[39m \u001b[43mhw_mod\u001b[49m\u001b[43m(\u001b[49m\u001b[43mnp_A\u001b[49m\u001b[43m,\u001b[49m\u001b[43m \u001b[49m\u001b[43mnp_B\u001b[49m\u001b[43m,\u001b[49m\u001b[43m \u001b[49m\u001b[43mnp_C\u001b[49m\u001b[43m)\u001b[49m\n",
      "\u001b[36mFile \u001b[39m\u001b[32m~/aloe/allo/allo/backend/hls.py:429\u001b[39m, in \u001b[36mHLSModule.__call__\u001b[39m\u001b[34m(self, shell, *args)\u001b[39m\n\u001b[32m    427\u001b[39m     process.wait()\n\u001b[32m    428\u001b[39m     \u001b[38;5;28;01mif\u001b[39;00m process.returncode != \u001b[32m0\u001b[39m:\n\u001b[32m--> \u001b[39m\u001b[32m429\u001b[39m         \u001b[38;5;28;01mraise\u001b[39;00m \u001b[38;5;167;01mRuntimeError\u001b[39;00m(\u001b[33m\"\u001b[39m\u001b[33mFailed to build the project\u001b[39m\u001b[33m\"\u001b[39m)\n\u001b[32m    430\u001b[39m \u001b[38;5;28;01melse\u001b[39;00m:\n\u001b[32m    431\u001b[39m     \u001b[38;5;28mprint\u001b[39m(\u001b[33m\"\u001b[39m\u001b[33mBuild folder exists, skip building\u001b[39m\u001b[33m\"\u001b[39m)\n",
      "\u001b[31mRuntimeError\u001b[39m: Failed to build the project"
     ]
    }
   ],
   "source": [
    "hw_mod = s.build(target=\"vitis_hls\", mode=\"hw_emu\", project=\"baseline.prj\")\n",
    "hw_mod(np_A, np_B, np_C)"
   ]
  },
  {
   "cell_type": "code",
   "execution_count": null,
   "metadata": {},
   "outputs": [
    {
     "name": "stdout",
     "output_type": "stream",
     "text": [
      "Build Error:\n",
      " /bin/sh: 12: [[: not found\n",
      "/bin/sh: 12: [[: not found\n",
      "/bin/sh: 15: [[: not found\n",
      "/bin/sh: 18: [[: not found\n",
      "In file included from xcl2.hpp:33,\n",
      "                 from xcl2.cpp:17:\n",
      "/usr/include/CL/cl2.hpp:18:151: note: ‘#pragma message: cl2.hpp has been renamed to opencl.hpp to make it clear that it supports all versions of OpenCL. Please include opencl.hpp directly.’\n",
      "   18 | #pragma message(\"cl2.hpp has been renamed to opencl.hpp to make it clear that it supports all versions of OpenCL. Please include opencl.hpp directly.\")\n",
      "      |                                                                                                                                                       ^\n",
      "In file included from xcl2.hpp:33,\n",
      "                 from host.cpp:7:\n",
      "/usr/include/CL/cl2.hpp:18:151: note: ‘#pragma message: cl2.hpp has been renamed to opencl.hpp to make it clear that it supports all versions of OpenCL. Please include opencl.hpp directly.’\n",
      "   18 | #pragma message(\"cl2.hpp has been renamed to opencl.hpp to make it clear that it supports all versions of OpenCL. Please include opencl.hpp directly.\")\n",
      "      |                                                                                                                                                       ^\n",
      "make: *** [makefile_us_alveo.mk:99: build_dir.hw_emu.xilinx_zcu102_base_202310_1/gemm.xclbin] Error 1\n",
      "\n",
      "cd baseline.prj; make run TARGET=hw_emu PLATFORM=$XDEVICE\n"
     ]
    },
    {
     "name": "stderr",
     "output_type": "stream",
     "text": [
      "/bin/sh: 12: [[: not found\n",
      "/bin/sh: 12: [[: not found\n",
      "/bin/sh: 15: [[: not found\n",
      "/bin/sh: 18: [[: not found\n",
      "makefile_zynqmp.mk:194: *** EDGE_COMMON_SW variable is not set, please download and use the pre-built image from https://www.xilinx.com/support/download/index.html/content/xilinx/en/downloadNav/embedded-platforms.html.  Stop.\n"
     ]
    },
    {
     "ename": "RuntimeError",
     "evalue": "Failed to build the project",
     "output_type": "error",
     "traceback": [
      "\u001b[31m---------------------------------------------------------------------------\u001b[39m",
      "\u001b[31mRuntimeError\u001b[39m                              Traceback (most recent call last)",
      "\u001b[36mCell\u001b[39m\u001b[36m \u001b[39m\u001b[32mIn[17]\u001b[39m\u001b[32m, line 41\u001b[39m\n\u001b[32m     38\u001b[39m np_C = np.zeros((\u001b[32m128\u001b[39m, \u001b[32m128\u001b[39m), dtype=np.float32)\n\u001b[32m     40\u001b[39m \u001b[38;5;66;03m# Continue with your mod operations\u001b[39;00m\n\u001b[32m---> \u001b[39m\u001b[32m41\u001b[39m \u001b[43mmod\u001b[49m\u001b[43m(\u001b[49m\u001b[43mnp_A\u001b[49m\u001b[43m,\u001b[49m\u001b[43m \u001b[49m\u001b[43mnp_B\u001b[49m\u001b[43m,\u001b[49m\u001b[43m \u001b[49m\u001b[43mnp_C\u001b[49m\u001b[43m)\u001b[49m\n",
      "\u001b[36mFile \u001b[39m\u001b[32m~/aloe/allo/allo/backend/hls.py:429\u001b[39m, in \u001b[36mHLSModule.__call__\u001b[39m\u001b[34m(self, shell, *args)\u001b[39m\n\u001b[32m    427\u001b[39m     process.wait()\n\u001b[32m    428\u001b[39m     \u001b[38;5;28;01mif\u001b[39;00m process.returncode != \u001b[32m0\u001b[39m:\n\u001b[32m--> \u001b[39m\u001b[32m429\u001b[39m         \u001b[38;5;28;01mraise\u001b[39;00m \u001b[38;5;167;01mRuntimeError\u001b[39;00m(\u001b[33m\"\u001b[39m\u001b[33mFailed to build the project\u001b[39m\u001b[33m\"\u001b[39m)\n\u001b[32m    430\u001b[39m \u001b[38;5;28;01melse\u001b[39;00m:\n\u001b[32m    431\u001b[39m     \u001b[38;5;28mprint\u001b[39m(\u001b[33m\"\u001b[39m\u001b[33mBuild folder exists, skip building\u001b[39m\u001b[33m\"\u001b[39m)\n",
      "\u001b[31mRuntimeError\u001b[39m: Failed to build the project"
     ]
    }
   ],
   "source": [
    "import os\n",
    "import subprocess\n",
    "import numpy as np\n",
    "\n",
    "# Step 1: Set up the platform\n",
    "os.environ['XDEVICE'] = 'xilinx_zcu102_base_202310_1'\n",
    "os.environ['PLATFORM'] = 'xilinx_zcu102_base_202310_1'\n",
    "\n",
    "# Step 2: Set up the platform repository paths\n",
    "platform_repo = os.environ.get('PLATFORM_REPO_PATHS', '/home/ubuntu/Xilinx/Vitis/2023.1/base_platforms')\n",
    "additional_paths = ['/home/ubuntu/Xilinx/Vitis/2023.1/platforms']\n",
    "for path in additional_paths:\n",
    "    if path not in platform_repo:\n",
    "        platform_repo = f\"{platform_repo}:{path}\"\n",
    "os.environ['PLATFORM_REPO_PATHS'] = platform_repo\n",
    "\n",
    "# Step 3: Override HOST_ARCH to force x86 compilation\n",
    "os.environ['HOST_ARCH'] = 'x86'\n",
    "os.environ['TARGET'] = 'hw_emu'\n",
    "\n",
    "# Step 4: Run make in the correct environment\n",
    "try:\n",
    "    result = subprocess.run(\n",
    "        ['make', 'run', 'TARGET=hw_emu', 'HOST_ARCH=x86', f'PLATFORM={os.environ[\"XDEVICE\"]}'],\n",
    "        cwd='/home/ubuntu/aloe/allo-tutorials/fpga25/baseline.prj',\n",
    "        check=True,\n",
    "        env=os.environ,\n",
    "        capture_output=True,\n",
    "        text=True\n",
    "    )\n",
    "    print(\"Build Success:\\n\", result.stdout)\n",
    "except subprocess.CalledProcessError as e:\n",
    "    print(\"Build Error:\\n\", e.stderr)\n",
    "\n",
    "# Your arrays\n",
    "np_A = np.random.rand(128, 128).astype(np.float32)\n",
    "np_B = np.random.rand(128, 128).astype(np.float32)\n",
    "np_C = np.zeros((128, 128), dtype=np.float32)\n",
    "\n",
    "# Continue with your mod operations\n",
    "mod(np_A, np_B, np_C)"
   ]
  },
  {
   "cell_type": "markdown",
   "metadata": {},
   "source": [
    "Without any customizations, the generated design is a inner-product matrix multiply. The following is a simplified version of the generated `kernel.cpp` HLS code and the corresponding datapath diagram.\n",
    "\n",
    "<div style=\"text-align:center\"><img width=90% src=\"https://res.cloudinary.com/dxzx2bxch/image/upload/v1740726173/default_gemm_udtmvl.png\" alt=\"default gemm\"></div>\n"
   ]
  },
  {
   "cell_type": "markdown",
   "metadata": {},
   "source": [
    "The resource utilization and performance results are available in the Vitis HLS report ``baseline.prj/out.prj/solution1/syn/report/gemm_csynth.rpt``"
   ]
  },
  {
   "cell_type": "markdown",
   "metadata": {
    "vscode": {
     "languageId": "raw"
    }
   },
   "source": [
    "<details><summary markdown=\"span\">Let's see some HLS report!</summary>\n",
    "\n",
    "```text\n",
    "+----------+----------+-----------+-----------+----------+----------+---------+\n",
    "|   Latency (cycles)  |   Latency (absolute)  |       Interval      | Pipeline|\n",
    "|    min   |    max   |    min    |    max    |    min   |    max   |   Type  |\n",
    "+----------+----------+-----------+-----------+----------+----------+---------+\n",
    "|  14958622|  14958622|  49.812 ms|  49.812 ms|  14958623|  14958623|       no|\n",
    "+----------+----------+-----------+-----------+----------+----------+---------+\n",
    "\n",
    "    \n",
    "================================================================\n",
    "== Utilization Estimates\n",
    "================================================================\n",
    "* Summary: \n",
    "+---------------------+---------+------+---------+---------+-----+\n",
    "|         Name        | BRAM_18K|  DSP |    FF   |   LUT   | URAM|\n",
    "+---------------------+---------+------+---------+---------+-----+\n",
    "|DSP                  |        -|     -|        -|        -|    -|\n",
    "|Expression           |        -|     -|        0|      458|    -|\n",
    "|FIFO                 |        -|     -|        -|        -|    -|\n",
    "|Instance             |        0|     5|     3258|     4428|    0|\n",
    "|Memory               |       48|     -|        0|        0|    0|\n",
    "|Multiplexer          |        -|     -|        -|      611|    -|\n",
    "|Register             |        -|     -|      691|        -|    -|\n",
    "+---------------------+---------+------+---------+---------+-----+\n",
    "|Total                |       48|     5|     3949|     5497|    0|\n",
    "+---------------------+---------+------+---------+---------+-----+\n",
    "|Available SLR        |     1344|  3008|   869120|   434560|  320|\n",
    "+---------------------+---------+------+---------+---------+-----+\n",
    "|Utilization SLR (%)  |        3|    ~0|       ~0|        1|    0|\n",
    "+---------------------+---------+------+---------+---------+-----+\n",
    "|Available            |     4032|  9024|  2607360|  1303680|  960|\n",
    "+---------------------+---------+------+---------+---------+-----+\n",
    "|Utilization (%)      |        1|    ~0|       ~0|       ~0|    0|\n",
    "+---------------------+---------+------+---------+---------+-----+\n",
    "```\n",
    "</details>"
   ]
  },
  {
   "cell_type": "markdown",
   "metadata": {},
   "source": [
    "By default, Vitis HLS will automatically apply pipelining to the innermost loop. We can examine the pipeline result in HLS report:"
   ]
  },
  {
   "cell_type": "markdown",
   "metadata": {
    "vscode": {
     "languageId": "raw"
    }
   },
   "source": [
    "```text\n",
    "* Loop: \n",
    "+-------------+---------+---------+----------+-----------+-----------+------+----------+\n",
    "|             |  Latency (cycles) | Iteration|  Initiation Interval  | Trip |          |\n",
    "|  Loop Name  |   min   |   max   |  Latency |  achieved |   target  | Count| Pipelined|\n",
    "+-------------+---------+---------+----------+-----------+-----------+------+----------+\n",
    "|- l_S_k_0_k  |      902|      902|        14|          7|          1|   128|       yes|\n",
    "+-------------+---------+---------+----------+-----------+-----------+------+----------+\n",
    "```"
   ]
  },
  {
   "cell_type": "markdown",
   "metadata": {},
   "source": [
    "Due to the read-after-write dependency on ``k`` loop iterations, it can only be pipelined to an initiation interval of 7, meaning that a new iteration can only start evey 7 cycles."
   ]
  },
  {
   "cell_type": "markdown",
   "metadata": {},
   "source": [
    "### Apply Customizations\n",
    "\n",
    "One way to improve the pipelining is to move the reduction loop outside, so the innermost loop does not have data dependency.\n",
    "\n",
    "In this section, we exercise single-kernel customizations with an example: transforming an inner-product matrix multiply to scalar-vector product. \n",
    "\n",
    "<div style=\"text-align:center\"><img width=60% src=\"https://res.cloudinary.com/dxzx2bxch/image/upload/v1740145203/svp_ixb7ya.png\" alt=\"scalar-vector\"></div>\n",
    "\n",
    "The figure above illustrates the difference between inner-product and scalar-vector product computations. In the inner-product implementation, the loop over `k` accumulates partial sums. If we attempt to pipeline this loop, we cannot initiate the next iteration immediately after the previous one starts due to data dependencies in the accumulation process.\n",
    "\n",
    "Instead, we can reorder loops `k` and `j` and pipeline loop `j`. Since there are no dependencies between iterations of loop `j`, a new iteration can begin every cycle. This effectively transforms the computation into a scalar-vector product."
   ]
  },
  {
   "cell_type": "markdown",
   "metadata": {},
   "source": [
    "Let's try to reorder the inner reduction loop with the middle loop. This is for changing the computation order of matrix multiply.\n",
    "\n",
    "**Exercise**: reorder loop `k` and loop `j` with the `.reorder()` primitive.\n",
    "\n",
    "Syntax:\n",
    "```python\n",
    "reorder(*args)\n",
    "# Reorders nested loops with indices listed in args such that the outermost loop is the first index listed in args, the second is the second outermost, and so on.\n",
    "```\n",
    "\n",
    "💡**Tip**: You can print the IR after each customization to see the changes.\n"
   ]
  },
  {
   "cell_type": "code",
   "execution_count": null,
   "metadata": {},
   "outputs": [],
   "source": [
    "## Write your code here\n"
   ]
  },
  {
   "cell_type": "markdown",
   "metadata": {},
   "source": [
    "\n",
    "<details>\n",
    "  <summary> Answer </summary>\n",
    "  \n",
    "  `s.reorder(\"k\", \"j\")`\n",
    "</details>"
   ]
  },
  {
   "cell_type": "markdown",
   "metadata": {},
   "source": [
    "Next, we need an accumulation buffer for one row of partial sums. We create a new buffer for the output tensor C. We provide a `.buffer_at(tensor, axis=\"loop\")` primitive for users to quickly create a new buffer along a specific axis. Since Allo has attached all the tensors to the function, we can directly use <schedule>.<tensor> to access a specific tensor in the schedule.\n",
    "\n",
    "**Exercise**: insert a buffer for output tensor `C` at loop level `i`.\n",
    "\n",
    "Syntax:\n",
    "```python\n",
    "buffer_at(target, axis)\n",
    "# Creates a chip buffer to hold the values of target written to in loop with index axis instead of immediately writing them to memory.\n",
    "```"
   ]
  },
  {
   "cell_type": "code",
   "execution_count": null,
   "metadata": {},
   "outputs": [],
   "source": [
    "## Write your code here\n"
   ]
  },
  {
   "cell_type": "markdown",
   "metadata": {},
   "source": [
    "\n",
    "<details>\n",
    "  <summary> Answer </summary>\n",
    "  \n",
    "  `s.buffer_at(s.C, axis=\"i\")`\n",
    "</details>"
   ]
  },
  {
   "cell_type": "markdown",
   "metadata": {},
   "source": [
    "\n",
    "Lastly, we pipeline the `j` loop in order to achieve the best performance.\n",
    "\n",
    "**Exercise**: pipeline loop `j`.\n",
    "\n",
    "Syntax:\n",
    "```python\n",
    "pipeline(axis[, initiation_interval, rewind])\n",
    "# Pipelines a loop with index axis into initiation_interval stages.\n",
    "```"
   ]
  },
  {
   "cell_type": "code",
   "execution_count": null,
   "metadata": {},
   "outputs": [],
   "source": [
    "## Write your code here\n"
   ]
  },
  {
   "cell_type": "markdown",
   "metadata": {},
   "source": [
    "\n",
    "<details>\n",
    "  <summary> Answer </summary>\n",
    "  \n",
    "  `s.pipeline(\"j\")`\n",
    "</details>"
   ]
  },
  {
   "cell_type": "markdown",
   "metadata": {},
   "source": [
    "Next, let's push the design through synthesis and observe the speedup:"
   ]
  },
  {
   "cell_type": "code",
   "execution_count": null,
   "metadata": {},
   "outputs": [],
   "source": [
    "mod = s.build(target=\"vitis_hls\", mode=\"csyn\", project=\"scalar-vector.prj\")\n",
    "mod()"
   ]
  },
  {
   "cell_type": "markdown",
   "metadata": {},
   "source": [
    "You can find the generated `kernel.cpp` HLS code and the corresponding datapath diagram in the `scalar-vector.prj` directory. The HLS report is available in `scalar-vector.prj/out.prj/solution1/syn/report/gemm_csynth.rpt`.\n",
    "The following is a simplified version of the generated `kernel.cpp` HLS code and the corresponding datapath diagram.\n",
    "\n",
    "<div style=\"text-align:center\"><img width=90% src=\"https://res.cloudinary.com/dxzx2bxch/image/upload/v1740727380/reorder_buffer_at_ccst24.png\" alt=\"scalar-vector\"></div>\n",
    "\n",
    "From the above generated code, we can see that Allo automatically creates an intermediate buffer for C and attach it inside the `i` loop. Also two additional loop nested named `j_init` and `j_back` are created to initialize and write the intermediate buffer back to output tensor."
   ]
  },
  {
   "cell_type": "markdown",
   "metadata": {
    "vscode": {
     "languageId": "raw"
    }
   },
   "source": [
    "<details><summary markdown=\"span\">Let's see some HLS report!</summary>\n",
    "\n",
    "```text\n",
    "+ Latency: \n",
    "    * Summary: \n",
    "    +---------+---------+----------+----------+---------+---------+---------+\n",
    "    |  Latency (cycles) |  Latency (absolute) |      Interval     | Pipeline|\n",
    "    |   min   |   max   |    min   |    max   |   min   |   max   |   Type  |\n",
    "    +---------+---------+----------+----------+---------+---------+---------+\n",
    "    |  2198686|  2198686|  7.322 ms|  7.322 ms|  2198687|  2198687|       no|\n",
    "    +---------+---------+----------+----------+---------+---------+---------+\n",
    "\n",
    "================================================================\n",
    "== Utilization Estimates\n",
    "================================================================\n",
    "* Summary: \n",
    "+---------------------+---------+------+---------+---------+-----+\n",
    "|         Name        | BRAM_18K|  DSP |    FF   |   LUT   | URAM|\n",
    "+---------------------+---------+------+---------+---------+-----+\n",
    "|DSP                  |        -|     -|        -|        -|    -|\n",
    "|Expression           |        -|     -|        0|      371|    -|\n",
    "|FIFO                 |        -|     -|        -|        -|    -|\n",
    "|Instance             |        0|     5|     3384|     4619|    0|\n",
    "|Memory               |       48|     -|       32|       65|    0|\n",
    "|Multiplexer          |        -|     -|        -|      668|    -|\n",
    "|Register             |        -|     -|      649|        -|    -|\n",
    "+---------------------+---------+------+---------+---------+-----+\n",
    "|Total                |       48|     5|     4065|     5723|    0|\n",
    "+---------------------+---------+------+---------+---------+-----+\n",
    "|Available SLR        |     1344|  3008|   869120|   434560|  320|\n",
    "+---------------------+---------+------+---------+---------+-----+\n",
    "|Utilization SLR (%)  |        3|    ~0|       ~0|        1|    0|\n",
    "+---------------------+---------+------+---------+---------+-----+\n",
    "|Available            |     4032|  9024|  2607360|  1303680|  960|\n",
    "+---------------------+---------+------+---------+---------+-----+\n",
    "|Utilization (%)      |        1|    ~0|       ~0|       ~0|    0|\n",
    "+---------------------+---------+------+---------+---------+-----+\n",
    "\n",
    "```\n",
    "</details>"
   ]
  },
  {
   "cell_type": "markdown",
   "metadata": {},
   "source": [
    "Wow! We have improved the total latency from 14,958,622 cycles to 2,198,686 cycles, a 6.8x speedup!"
   ]
  },
  {
   "cell_type": "markdown",
   "metadata": {},
   "source": [
    "We check pipline:"
   ]
  },
  {
   "cell_type": "markdown",
   "metadata": {
    "vscode": {
     "languageId": "raw"
    }
   },
   "source": [
    "```text\n",
    "* Loop: \n",
    "+-----------------+---------+---------+----------+-----------+-----------+-------+----------+\n",
    "|                 |  Latency (cycles) | Iteration|  Initiation Interval  |  Trip |          |\n",
    "|    Loop Name    |   min   |   max   |  Latency |  achieved |   target  | Count | Pipelined|\n",
    "+-----------------+---------+---------+----------+-----------+-----------+-------+----------+\n",
    "|- l_S_k_0_k_l_j  |    16397|    16397|        15|          1|          1|  16384|       yes|\n",
    "+-----------------+---------+---------+----------+-----------+-----------+-------+----------+\n",
    "```"
   ]
  },
  {
   "cell_type": "markdown",
   "metadata": {},
   "source": [
    "We see that the `j` loop is pipelined to an initiation interval of 1, meaning that a new iteration can begin every cycle, achieving the best performance."
   ]
  },
  {
   "cell_type": "markdown",
   "metadata": {},
   "source": [
    "Furthermore, we can increase parallelism by unrolling the `j` loop.\n",
    "\n",
    "**Exercise**: unroll loop `j` with a factor of 16.\n",
    "\n",
    "Syntax:\n",
    "```python\n",
    "unroll(axis[, factor])\n",
    "# Unrolls a loop with loop index axis by factor.\n",
    "```"
   ]
  },
  {
   "cell_type": "code",
   "execution_count": null,
   "metadata": {},
   "outputs": [],
   "source": [
    "## Write your code here\n"
   ]
  },
  {
   "cell_type": "markdown",
   "metadata": {},
   "source": [
    "With unrolling, we create 16 parallel units to compute the scalar-vector product. The following is the datapath diagram of the unrolled design.\n",
    "\n",
    "<div style=\"text-align:center\"><img width=40% src=\"https://res.cloudinary.com/dxzx2bxch/image/upload/v1740727380/unroll_yl4lxg.png\" alt=\"scalar-vector-unroll\"></div>\n",
    "\n",
    "We push the design through synthesis again and observe the speedup."
   ]
  },
  {
   "cell_type": "code",
   "execution_count": null,
   "metadata": {},
   "outputs": [],
   "source": [
    "mod = s.build(target=\"vitis_hls\", mode=\"csyn\", project=\"unroll-scalar-vector.prj\")\n",
    "mod()"
   ]
  },
  {
   "cell_type": "markdown",
   "metadata": {},
   "source": [
    "The HLS report is available in `unroll-scalar-vector.prj/out.prj/solution1/syn/report/gemm_csynth.rpt`."
   ]
  },
  {
   "cell_type": "markdown",
   "metadata": {
    "vscode": {
     "languageId": "raw"
    }
   },
   "source": [
    "<details><summary markdown=\"span\">Let's see some HLS report!</summary>\n",
    "\n",
    "```text\n",
    "+ Latency: \n",
    "+---------+---------+----------+----------+--------+--------+---------+\n",
    "|  Latency (cycles) |  Latency (absolute) |     Interval    | Pipeline|\n",
    "|   min   |   max   |    min   |    max   |   min  |   max  |   Type  |\n",
    "+---------+---------+----------+----------+--------+--------+---------+\n",
    "|   232478|   232478|  0.774 ms|  0.774 ms|  232479|  232479|       no|\n",
    "+---------+---------+----------+----------+--------+--------+---------+\n",
    "\n",
    "================================================================\n",
    "== Utilization Estimates\n",
    "================================================================\n",
    "* Summary: \n",
    "+---------------------+---------+------+---------+---------+-----+\n",
    "|         Name        | BRAM_18K|  DSP |    FF   |   LUT   | URAM|\n",
    "+---------------------+---------+------+---------+---------+-----+\n",
    "|DSP                  |        -|     -|        -|        -|    -|\n",
    "|Expression           |        -|     -|        0|      350|    -|\n",
    "|FIFO                 |        -|     -|        -|        -|    -|\n",
    "|Instance             |        0|    80|    12274|     9303|    0|\n",
    "|Memory               |       64|     -|      512|      528|    0|\n",
    "|Multiplexer          |        -|     -|        -|     2082|    -|\n",
    "|Register             |        -|     -|      634|        -|    -|\n",
    "+---------------------+---------+------+---------+---------+-----+\n",
    "|Total                |       64|    80|    13420|    12263|    0|\n",
    "+---------------------+---------+------+---------+---------+-----+\n",
    "|Available SLR        |     1344|  3008|   869120|   434560|  320|\n",
    "+---------------------+---------+------+---------+---------+-----+\n",
    "|Utilization SLR (%)  |        4|     2|        1|        2|    0|\n",
    "+---------------------+---------+------+---------+---------+-----+\n",
    "|Available            |     4032|  9024|  2607360|  1303680|  960|\n",
    "+---------------------+---------+------+---------+---------+-----+\n",
    "|Utilization (%)      |        1|    ~0|       ~0|       ~0|    0|\n",
    "+---------------------+---------+------+---------+---------+-----+\n",
    "```"
   ]
  },
  {
   "cell_type": "markdown",
   "metadata": {},
   "source": [
    "With unrolling, we created 16 parallel units to compute the scalar-vector product, so we use more DSPs and FFs. We further improve the total latency from 14,958,622 cycles to 232,478 cycles, a 64.4x total speedup! 🎉"
   ]
  },
  {
   "cell_type": "markdown",
   "metadata": {},
   "source": [
    "We check the pipelined `j` loop:"
   ]
  },
  {
   "cell_type": "markdown",
   "metadata": {
    "vscode": {
     "languageId": "raw"
    }
   },
   "source": [
    "```text\n",
    "* Loop: \n",
    "+-----------------+---------+---------+----------+-----------+-----------+------+----------+\n",
    "|                 |  Latency (cycles) | Iteration|  Initiation Interval  | Trip |          |\n",
    "|    Loop Name    |   min   |   max   |  Latency |  achieved |   target  | Count| Pipelined|\n",
    "+-----------------+---------+---------+----------+-----------+-----------+------+----------+\n",
    "|- l_S_k_0_k_l_j  |     1035|     1035|        13|          1|          1|  1024|       yes|\n",
    "+-----------------+---------+---------+----------+-----------+-----------+------+----------+\n",
    "```"
   ]
  },
  {
   "cell_type": "markdown",
   "metadata": {},
   "source": [
    "The `j` loop is pipelined to an initiation interval of 1, meaning that a new iteration can begin every cycle, achieving the best performance."
   ]
  },
  {
   "cell_type": "markdown",
   "metadata": {},
   "source": [
    "### Summary\n",
    "\n",
    "In this section, we walked through the following topics:\n",
    "- Creating a customization schedule from an algorithm.\n",
    "- Using CPU backend for functional validation.\n",
    "- Targeting Vitis HLS for hardware synthesis.\n",
    "- Applying loop reordering, buffer insertion, pipelining, and unrolling to improve the performance.\n",
    "\n",
    "We have successfully transformed the matrix multiply example into an accelerator design with a 64.4x speedup! 🎉\n",
    "\n",
    "In the next section, we will show how to _verify_ the correctness of the accelerator design."
   ]
  },
  {
   "cell_type": "markdown",
   "metadata": {},
   "source": [
    "## Verification\n",
    "\n",
    "Each customization transform the Allo program. How to make sure the accelerator remains correct after applying hardware customizations? 🤔\n",
    "\n",
    "Allo integrates an equivalence verification tool that checks the equivalence before and after customizations:\n",
    "\n",
    "<div style=\"text-align:center\"><img width=60% src=\"https://res.cloudinary.com/dxzx2bxch/image/upload/v1739966977/verify_wa2lf4.png\" alt=\"verify\"></div>\n",
    "\n",
    "This verification tool interprets the program before and after customizations to build a pair of symbolic representations, then checks if they are equivalent. This method is agnostic to loop transformations, data layout, buffer insertion. If the two programs are equivalent, the verification tool will return `True`. Otherwise, it will return `False`, and give the difference between the two programs.\n",
    "\n",
    "To read more about the verification tool, please refer to our paper published at FPGA 2024: [Formal Verification of Source-to-Source Transformations for HLS](https://dl.acm.org/doi/10.1145/3626202.3637563).\n",
    "\n",
    "We verify the scalar-vector matrix multiply example as follows:"
   ]
  },
  {
   "cell_type": "code",
   "execution_count": null,
   "metadata": {},
   "outputs": [],
   "source": [
    "M, N, K = 32, 32, 32\n",
    "\n",
    "def gemm(A: float32[M, K], B: float32[K, N]) -> float32[M, N]:\n",
    "    C: float32[M, N] = 0.0\n",
    "    for i, j in allo.grid(M, N):\n",
    "        for k in allo.reduction(K):\n",
    "            C[i, j] += A[i, k] * B[k, j]\n",
    "    return C\n",
    "\n",
    "s = allo.customize(gemm)\n",
    "s.reorder(\"k\", \"j\")\n",
    "s.buffer_at(s.C, axis=\"i\")\n",
    "s.pipeline(\"j\")\n",
    "s.unroll(\"j\", 4)\n",
    "\n",
    "\n",
    "s1 = allo.customize(gemm)\n",
    "equivalent = allo.verify(s, s1)\n",
    "if equivalent:\n",
    "    print(\"\\033[92m\" + \"Verification Passed!\" + \"\\033[0m\")\n",
    "else:\n",
    "    print(\"\\033[91m\" + \"Verification Failed!\" + \"\\033[0m\")\n"
   ]
  },
  {
   "cell_type": "markdown",
   "metadata": {},
   "source": [
    "💡**Tip**: You can verify the equivalence of two schedules at any point of composing the customizations, even at every step. This makes the verification process scalable to large-scale and complex customizations."
   ]
  },
  {
   "cell_type": "markdown",
   "metadata": {},
   "source": [
    "## PyTorch"
   ]
  },
  {
   "cell_type": "markdown",
   "metadata": {},
   "source": [
    "With Allo, we can also easily convert a PyTorch model into an accelerator design.\n",
    "\n",
    "\n",
    "In Allo example directory, we provide demo code for converting a self-attention module, a Bert layer, and a full GPT2 model into accelerator designs. If you are interested in the details, please refer to the [examples](https://github.com/cornell-zhang/allo/tree/main/examples/torch) directory.\n",
    "\n",
    "Here, we show a small example of converting a simple MLP into an accelerator design."
   ]
  },
  {
   "cell_type": "code",
   "execution_count": null,
   "metadata": {},
   "outputs": [],
   "source": [
    "import torch\n",
    "import torch.nn.functional as F\n",
    "import torch.nn as nn\n",
    "import allo\n",
    "\n",
    "\n",
    "class MLP(nn.Module):\n",
    "    def __init__(self):\n",
    "        super().__init__()\n",
    "        self.linear1 = torch.nn.Linear(16, 32)  # 8*16 * 32*16\n",
    "        self.linear2 = torch.nn.Linear(32, 10)\n",
    "\n",
    "    def forward(self, data):\n",
    "        out = self.linear1(data)\n",
    "        out = self.linear2(out)\n",
    "        out = F.relu(out)\n",
    "        return out\n",
    "\n",
    "\n",
    "model = MLP()\n",
    "model.eval()\n",
    "example_inputs = [torch.rand(8, 16)]\n",
    "hls_mod = allo.frontend.from_pytorch(\n",
    "    model, example_inputs=example_inputs, verbose=False,\n",
    "    target=\"vitis_hls\", mode=\"csyn\", project=\"pytorch_demo.prj\"\n",
    ")\n",
    "hls_mod()"
   ]
  },
  {
   "cell_type": "markdown",
   "metadata": {},
   "source": [
    "## Multi-Kernel Composition Demo"
   ]
  },
  {
   "cell_type": "markdown",
   "metadata": {},
   "source": [
    "Allo is a composable accelerator design framework with the ability to compose multiple kernels into a larger accelerator design.\n",
    "\n",
    "First, we show how to design a systolic array with stream type and spatial composition."
   ]
  },
  {
   "cell_type": "markdown",
   "metadata": {},
   "source": [
    "#### Stream Types\n",
    "\n",
    "Spatial composition typically involves specializing distinct PEs for specific operators or layers, enabling direct communication between them using streaming buffers (e.g., FIFOs or multi-buffers). Similar to partition types, a stream can be viewed as a layout that enforces the memory access order. To improve spatial composability, we introduce the stream type, which serializes the data within it. As shown in the following figure, two operations are associated with the stream type: the `.put()`\n",
    "operation places data into the stream, while the `.get()` operation retrieves data from the stream in a first-in-first-out manner.\n",
    "\n",
    "<div style=\"text-align:center\"><img width=60% src=\"https://res.cloudinary.com/dxzx2bxch/image/upload/v1739966977/stream_type_arn3y3.png\" alt=\"stream_type\"></div>"
   ]
  },
  {
   "cell_type": "markdown",
   "metadata": {},
   "source": [
    "### Constructing A Systolic Array with Spatial PE Composition\n",
    "\n",
    "A systolic array is a grid of processing elements (PEs) where each PE operates on the data it receives from its neighbors. The PEs are connected to each other through a network of communication channels, which allows them to exchange data and perform computations in parallel.\n",
    "\n",
    "<div style=\"text-align:center\"><img width=40% src=\"https://res.cloudinary.com/dxzx2bxch/image/upload/v1739961848/systolic_array_pix4ue.png\" alt=\"systolic_array\"></div>"
   ]
  },
  {
   "cell_type": "code",
   "execution_count": null,
   "metadata": {},
   "outputs": [],
   "source": [
    "import allo.dataflow as df\n",
    "import numpy as np\n",
    "from allo.ir.types import float32\n",
    "\n",
    "\n",
    "M, N, K = 2, 2, 2\n",
    "P0, P1 = M + 2, N + 2\n",
    "\n",
    "@df.region()\n",
    "def top():\n",
    "    fifo_A = df.array(df.pipe(dtype=float32, shape=(), depth=4), shape=(P0, P1))\n",
    "    fifo_B = df.array(df.pipe(dtype=float32, shape=(), depth=4), shape=(P0, P1))\n",
    "\n",
    "    @df.kernel(mapping=[P0, P1])\n",
    "    def gemm(A: float32[M, K], B: float32[K, N], C: float32[M, N]):\n",
    "        i, j = df.get_pid()\n",
    "        # periperals kernels\n",
    "        with allo.meta_if(i in {0, M + 1} and j in {0, N + 1}):\n",
    "            pass\n",
    "        with allo.meta_elif(j == 0):\n",
    "            # i > 0\n",
    "            for k in range(K):\n",
    "                fifo_A[i, j + 1].put(A[i - 1, k])\n",
    "        with allo.meta_elif(i == 0):\n",
    "            # j > 0\n",
    "            for k in range(K):\n",
    "                fifo_B[i + 1, j].put(B[k, j - 1])\n",
    "        # drain\n",
    "        with allo.meta_elif(i == M + 1 and j > 0):\n",
    "            for k in range(K):\n",
    "                b: float32 = fifo_B[i, j].get()\n",
    "        with allo.meta_elif(j == N + 1 and i > 0):\n",
    "            for k in range(K):\n",
    "                a: float32 = fifo_A[i, j].get()\n",
    "        # main body\n",
    "        with allo.meta_else():\n",
    "            c: float32 = 0\n",
    "            for k in range(K):\n",
    "                a: float32 = fifo_A[i, j].get()\n",
    "                b: float32 = fifo_B[i, j].get()\n",
    "                c += a * b\n",
    "                fifo_A[i, j + 1].put(a)\n",
    "                fifo_B[i + 1, j].put(b)\n",
    "            C[i - 1, j - 1] = c\n",
    "\n",
    "\n",
    "A = np.random.rand(M, K).astype(np.float32)\n",
    "B = np.random.rand(K, N).astype(np.float32)\n",
    "C = np.zeros((M, N), dtype=np.float32)\n",
    "\n",
    "sim_mod = df.build(top, target=\"simulator\")\n",
    "sim_mod(A, B, C)\n",
    "np.testing.assert_allclose(C, np.dot(A, B), atol=1e-5)\n",
    "print(\"\\033[92mDataflow Simulator Passed!\\033[0m\")"
   ]
  },
  {
   "cell_type": "markdown",
   "metadata": {},
   "source": [
    "### Composing Two Systolic Arrays\n",
    "\n",
    "When composing multiple kernels, there could be conflicts in the data layout. Allo checks and resolves this by modeling data layout as types, and use type inference to check and fix such potential data layout inconsistency.\n",
    "\n",
    "In the following example, we show how to compose two systolic arrays with potential data layout inconsistency.\n",
    "\n",
    "<div style=\"text-align:center\"><img width=40% src=\"https://res.cloudinary.com/dxzx2bxch/image/upload/v1739969013/temporal_compose_xghz28.png\" alt=\"systolic_array\"></div>\n",
    "\n",
    "As shown in the above figure, we demonstrate an example of calling two consecutive GEMM kernels. By using the `.compose()` primitive, users can easily integrate the schedule of a subfunction into the top-level function.\n",
    "\n",
    "Here, we customize the submodule `systolic_tile`, then compose it with the top-level module.\n",
    "\n",
    "Notice the potential data layout inconsistency for tensor `Y`:\n",
    "\n",
    "- It is fully partitioned as the output of the first `systolic_tile` call.\n",
    "- It is also partitioned along rows as the input of the second `systolic_tile` call.\n",
    "\n",
    "To make sure the data layout is consistent, we fully partition both input A and output C.\n",
    "\n",
    "Allo models data layout as types, and use type inference to check and fix such potential data layout inconsistency. The intuition is, always supply equal or more parallelism, but never less."
   ]
  },
  {
   "cell_type": "code",
   "execution_count": null,
   "metadata": {},
   "outputs": [],
   "source": [
    "from allo.library.systolic import systolic_tile\n",
    "from allo.ir.types import int8\n",
    "\n",
    "M0, M1, KK = 4, 4, 4\n",
    "W_A_cst = np.random.randint(-4, 4, size=(M0, M1)).astype(np.int8)\n",
    "W_B_cst = np.random.randint(-4, 4, size=(M0, M1)).astype(np.int8)\n",
    "\n",
    "def top(X: int8[M0, M1]) -> int8[M0, M1]:\n",
    "    Y: int8[M0, M1] = 0\n",
    "    Z: int8[M0, M1] = 0\n",
    "    W_A: int8[M0, M1] = W_A_cst\n",
    "    W_B: int8[M0, M1] = W_B_cst\n",
    "    systolic_tile[int8, int8, int8, KK, M0, M1](X, W_A, Y)\n",
    "    systolic_tile[int8, int8, int8, KK, M0, M1](Y, W_B, Z)\n",
    "    return Z\n",
    "\n",
    "s_top = allo.customize(top)\n",
    "# print(s_top.module)\n",
    "# CPU testing\n",
    "mod = s_top.build()\n",
    "X = np.random.randint(-4, 4, size=(M0, M1)).astype(np.int8)\n",
    "allo_C = mod(X)\n",
    "np_C = X @ W_A_cst @ W_B_cst\n",
    "np.testing.assert_allclose(allo_C, np_C, atol=1e-3)\n",
    "print(\"Passed!\")\n",
    "# Submodule customization\n",
    "s = allo.customize(\n",
    "    systolic_tile,\n",
    "    instantiate=[int8, int8, int8, KK, M0, M1],\n",
    ")\n",
    "s.partition(s.C, dim=0) \n",
    "s.partition(s.A, dim=1)\n",
    "s.partition(s.B, dim=2)\n",
    "pe = s.unfold(\"PE\", [0, 1])  # specify which are spatial loops\n",
    "s.to(s.A_fifo, pe, axis=1, depth=M0 + 1)\n",
    "s.to(s.B_fifo, pe, axis=0, depth=M1 + 1)\n",
    "# Compose with submodule\n",
    "s_top.compose(s)\n",
    "# HLS testing\n",
    "code = s_top.build(\"vhls\")\n",
    "print(code)"
   ]
  },
  {
   "cell_type": "markdown",
   "metadata": {},
   "source": [
    "## Conclusions\n",
    "\n",
    "In this tutorial, we demonstrated Allo's _verifiable_ accelerator design approach. We walked through the following topics:\n",
    "- Single kernel design and customization with Allo.\n",
    "- Verifying the correctness of the accelerator design.\n",
    "- Importing PyTorch models and converting them into accelerator designs.\n",
    "- Composing multiple kernels into a larger accelerator design.\n",
    "- Synthesis, simulation of the accelerator design targeting FPGA."
   ]
  },
  {
   "cell_type": "markdown",
   "metadata": {},
   "source": [
    "Next, back to Hongzheng for AI Engine Demo!\n",
    "\n",
    "<div style=\"text-align:center\"><img width=90% src=\"https://res.cloudinary.com/dxzx2bxch/image/upload/v1740771896/aie_bmulwc.png\" alt=\"AIE\"></div>"
   ]
  }
 ],
 "metadata": {
  "anaconda-cloud": {},
  "kernelspec": {
   "display_name": ".venv",
   "language": "python",
   "name": "python3"
  },
  "language_info": {
   "codemirror_mode": {
    "name": "ipython",
    "version": 3
   },
   "file_extension": ".py",
   "mimetype": "text/x-python",
   "name": "python",
   "nbconvert_exporter": "python",
   "pygments_lexer": "ipython3",
   "version": "3.12.11"
  }
 },
 "nbformat": 4,
 "nbformat_minor": 4
}
